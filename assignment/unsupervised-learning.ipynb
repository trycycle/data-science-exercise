{
 "cells": [
  {
   "cell_type": "markdown",
   "metadata": {},
   "source": [
    "# 教師なし学習"
   ]
  },
  {
   "cell_type": "markdown",
   "metadata": {},
   "source": [
    "### Q1. 類似度（1/2）（ユークリッド距離とコサイン類似度）\n",
    "下2次元のユークリッド空間上に，13個のデータ点が図のように分布している状況を考える（各点の座標については，下記コードのリスト``data``に収められている）．\n",
    "\n",
    "N次元空間上の任意の点$v_1$，$v_2$が与えられたとき，$v_1$と$v_2$のユークリッド距離を求める関数``calc_euclidean_dist(v1, v2)``，コサイン類似度を求める関数``calc_cosine_sim(v1, v2)``を実装せよ．さらに，下図の13つの点のすべての組み合わせについて，そのユークリッド距離とコサイン類似度を求めよ．\n",
    "\n",
    "なお，実装する関数の第1引数および第2引数は，実数のリストを想定せよ．"
   ]
  },
  {
   "cell_type": "code",
   "execution_count": 1,
   "metadata": {},
   "outputs": [],
   "source": [
    "import seaborn as sns\n",
    "import matplotlib.pyplot as plt\n",
    "\n",
    "sns.set()\n",
    "sns.set_style('ticks')\n",
    "%matplotlib inline"
   ]
  },
  {
   "cell_type": "code",
   "execution_count": 2,
   "metadata": {},
   "outputs": [
    {
     "data": {
      "image/png": "[encoded data removed]",
      "text/plain": [
       "<Figure size 432x288 with 1 Axes>"
      ]
     },
     "metadata": {
      "needs_background": "light"
     },
     "output_type": "display_data"
    }
   ],
   "source": [
    "data = [(2, 2), (3, 4), (5, 2), (10, 5), (9, 3),\n",
    "        (11, 4), (12, 3), (12, 6), (4, 10), (4, 8),\n",
    "        (6, 8), (7, 10), (7, 6)]\n",
    "\n",
    "xs, ys = zip(*data) # zipの逆操作\n",
    "\n",
    "# 可視化\n",
    "ax = sns.scatterplot(x=xs, y=ys)\n",
    "ax.set_xlim(0, 13)\n",
    "ax.set_ylim(0, 13)\n",
    "plt.show()"
   ]
  },
  {
   "cell_type": "markdown",
   "metadata": {},
   "source": [
    "### Q2. 類似度（2/2）（類似度の解釈）\n",
    "Q1で扱ったデータ集合において，点$v=(11, 4)$との最も類似する点（最近傍点）を求めたい．ユークリッド空間の各次元の意味，最近傍点の定義が下記のような設定である場合，点の類似性を評価する関数としてユークリッド距離，コサイン類似度のどちらを用いるのが適切か考察しながら，最近傍点を求めよ．\n",
    "\n",
    "1. 各点は都市の位置情報を表しており，第1次元は「緯度」，第2次元は「経度」を意味する．最近傍点として，**物理的距離が近い都市**を見つけたいケース．\n",
    "2. 各点はユーザの購買傾向を表しており，第1次元は「ジャンルAに属する商品を購入した回数」，第2次元は「ジャンルBに属する商品を購入した回数」を意味する．最近傍点として，**購買傾向が似ているユーザ**を見つけたいケース．"
   ]
  },
  {
   "cell_type": "markdown",
   "metadata": {},
   "source": [
    "### Q3. K-means（1/3）（実装）\n",
    "Q1で扱った13個のデータ点について，[K-means法](https://ja.wikipedia.org/wiki/K%E5%B9%B3%E5%9D%87%E6%B3%95)を用いて3つのクラスタに分割したい．\n",
    "\n",
    "K-means法は，N個のデータ集合$D=\\{x_1, x_2, ..., x_n\\}$が与えられたとき，以下の手順でデータ集合をK個のクラスタに分割する：\n",
    "1. データ集合からランダムにK個のデータを選択し，それぞれをクラスタ中心（centroid）とする．\n",
    "2. データ集合$D$中の各データ$d \\in D$について，K個のクラスタ中心との距離を比較し，最も距離が小さいクラスタにデータ$d$を割り当てる．\n",
    "3. 各クラスタに属するデータの重心（平均）をクラスタ中心として更新する．\n",
    "4. 各クラスタに割り当てられるデータが変化しなくなるまで，2と3の処理を繰り返す．\n",
    "\n",
    "上記手順に従ってK-means法を実装し，対象データを3つのクラスタに分割せよ．\n",
    "\n",
    "なお，この課題では``sklearn``ライブラリ等のクラスタリングメソッドを用いないこと．また，データ間の距離の計算にはユークリッド距離を用いよ．"
   ]
  },
  {
   "cell_type": "markdown",
   "metadata": {},
   "source": [
    "### Q4. K-means（2/3）（初期値）\n",
    "Q4で実装したK-means法は，クラスタ中心の初期値をランダムに割り当てているため，初期値によってはクラスタリングの結果が大きく変わってしまうことがある．この問題を回避するために，様々なアプローチが提案されている．KKZ法はクラスタ中心の初期化手法の1つであり，「最も距離が離れているデータ同士を初期値クラスタ中心を選択する」というものである．KKZ法の具体的な手順は以下の通りである：\n",
    "\n",
    "1. 与えられたデータ集合$D$からデータ同士の距離が最大となる2つのデータを選択する．それら2つを初期のクラスタ中心$c1$，$c2$とする．\n",
    "2. 初期のクラスタ中心として選ばれていない各データについて，既に選ばれている各クラスタ中心との距離を計算し，その最小値を保存しておく．\n",
    "3. ステップ2で計算した値が最大となるデータ$d$を初期のクラスタ中心として追加する．\n",
    "4. 初期のクラスタ中心がK個（クラスタ分割数）になるまで，ステップ2および3を繰り返す．\n",
    "\n",
    "KKZ法によって初期クラスタ中心を選択する関数``find_initial_centroids``を実装し，Q4で実装したK-means法を改良せよ．"
   ]
  },
  {
   "cell_type": "markdown",
   "metadata": {},
   "source": [
    "### Q5. K-means（3/3）（クラスタ数の決定）\n",
    "クラスタリングによってデータを分割し，データ集合が性質もつ考察するためには，クラスタが細かくなりすぎないかつある程度意味をなすクラスタのサイズにデータを分割する必要がある．ところで，K-means法は分割後のクラスタ数を指定する必要があるが，現実的にはクラスタリング時に最適なクラスタ数が分かっていることは稀である．このため，最適なクラスタ数を求める様々な方法が提案されている．\n",
    "\n",
    "クラスタ数をある数に指定したときに，その条件でのクラスタリング結果の質を評価する指標として，クラスタ内のデータとクラスタ中心との距離の差（残差）の平方和（SSE: Sum of Squared errors of prediction）を用いることがある．クラスタ数がk，$C_i$i番目のクラスタ，$x \\in C_i$はクラスタ$C_i$に含まれるデータ，$c_i$はクラスタ$C_i$の重心（平均値）とするとき，SSEは以下の式で定義される：\n",
    "\n",
    "$$\n",
    "SSE = \\sum^k_i \\sum_{x \\in C_i} |x - c_i|^2\n",
    "$$\n",
    "\n",
    "最適クラスタ数を決定する方法の1つに，クラスタ数を変化させながらSSEを計算し，SSEの値の変化パターンが大きく変わった際のクラスタ数を最適クラスタ数とするものがある．このアプローチを用いて，Q1で用いたデータをK-means法でクラスタリングする場合の最適クラスタ数を求めよ．"
   ]
  },
  {
   "cell_type": "markdown",
   "metadata": {},
   "source": [
    "### Q6. 階層的クラスタリング\n",
    "Q1で扱った13個のデータ点について，[階層的クラスタリング法](http://www.kamishima.net/jp/clustering/)を用いて段階的にクラスタに分割したい．\n",
    "\n",
    "``scipy.cluster.hierarchy``ライブラリの``linkage``関数および``dendrogram``関数を用いて，Q1で扱ったデータに階層的クラスタリングを適用せよ．その際，階層的クラスタリングのクラスタ生成手法として下記3つの方法を用いて，クラスタの生成過程を結果を比較せよ：\n",
    "\n",
    "* セントロイド法（centroid）\n",
    "* 最短距離法（single linkage）\n",
    "* 最長距離法（complete linkage）\n",
    "\n",
    "なお，クラスタ間の距離の尺度にはユークリッド距離を用いること．"
   ]
  },
  {
   "cell_type": "markdown",
   "metadata": {},
   "source": [
    "### Q7. Instacartユーザの注文頻度情報の集計と整形\n",
    "Q7-Q10では，[「SQL & 探索的データ解析」](/eda.ipynb)の演習で扱ったInstacartのデータを用いる．\n",
    "\n",
    "Instacart利用ユーザの特徴を把握するために，以下の手順で分析を行いたい．\n",
    "1. ユーザ毎の商品の注文頻度を集計したデータを準備する\n",
    "2. 1で準備したデータをクラスタリングする\n",
    "3. クラスタ毎に注文頻度の高い商品を分析し，注文傾向を考察する\n",
    "\n",
    "事前準備として，Instacartのデータベースに対してSQL文を発行し，ユーザ毎に商品棚（aisle）別注文数を集計せよ．さらに得られた結果を\n",
    "* 行がユーザ\n",
    "* 列が商品棚別注文数\n",
    "\n",
    "に対応する``pandas``データフレームに格納せよ．なお，注文がない商品棚については注文数をゼロとすること．"
   ]
  },
  {
   "cell_type": "markdown",
   "metadata": {},
   "source": [
    "### Q8. 主成分分析による次元圧縮（1/2）\n",
    "Q7で準備したデータは206,209のユーザの134の商品棚に関する注文回数情報を保持しているが，属性数（商品棚数）も多いためデータの解釈が容易ではない．そこで，データ群の特徴を保持しながらデータを低次元空間に縮約したい（少ない変数で表現したい）．\n",
    "\n",
    "Q7で得られたデータに**主成分分析**を適用し，データを5次元に圧縮せよ．また，圧縮したデータを2つの主成分ベクトルが張る平面へ射影（例：第1主成分と第2主成分のみを取り出し）し，データの分布を散布図で可視化せよ．"
   ]
  },
  {
   "cell_type": "markdown",
   "metadata": {},
   "source": [
    "### Q9. 主成分分析による次元圧縮（2/2）\n",
    "Q8で行った主成分分析の結果得られた第1主成分ベクトルから第5主成分ベクトルについて，その寄与率を表示せよ．また，各主成分ベクトルを構成する要素の大きさ（絶対値）順に上位20個の商品棚（aisle）を表示し，各主成分ベクトルが表す意味を考察せよ．"
   ]
  },
  {
   "cell_type": "markdown",
   "metadata": {},
   "source": [
    "### Q10. 次元圧縮結果を用いたクラスタリング\n",
    "Q9で圧縮したデータとK-means法を用いて，ユーザを5つのクラスタに分割せよ．さらに，各クラスタに属するユーザの商品棚注文数の平均値を計算し，各クラスタのユーザの特性について考察せよ．なお，この課題において第1主成分は「総合的な注文数を表す成分」と考えられるため，クラスタリングの際には第1主成分を無視せよ．\n",
    "\n",
    "* ヒント1：本課題では``sklearn``ライブラリの``cluster.KMeans``クラスを用いよ（計算速度が速い）\n",
    "* ヒント2：クラスタの初期設定は``cluster.KMeans``クラスのデフォルト設定（K-means++）に頼ればよい"
   ]
  }
 ],
 "metadata": {
  "kernelspec": {
   "display_name": "Python 3 (ipykernel)",
   "language": "python",
   "name": "python3"
  },
  "language_info": {
   "codemirror_mode": {
    "name": "ipython",
    "version": 3
   },
   "file_extension": ".py",
   "mimetype": "text/x-python",
   "name": "python",
   "nbconvert_exporter": "python",
   "pygments_lexer": "ipython3",
   "version": "3.9.5"
  }
 },
 "nbformat": 4,
 "nbformat_minor": 4
}
