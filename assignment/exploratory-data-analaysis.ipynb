{
 "cells": [
  {
   "cell_type": "markdown",
   "metadata": {},
   "source": [
    "# SQL & 探索的データ解析"
   ]
  },
  {
   "cell_type": "markdown",
   "metadata": {},
   "source": [
    "この演習では，食料品即日配達サービス[Instacart](https://www.instacart.com)の注文データを用いる．演習を開始する前に，[データダウンロードリンク](https://www.instacart.com/datasets/grocery-shopping-2017)よりデータが納められたzipファイル（約200MB）をダウンロードしておくこと．\n",
    "\n",
    "ダウンロードしたzipファイルには下記6つのcsvファイルが圧縮されている．\n",
    "* ``departments.csv``: 商品売り場（カテゴリ）に関するデータ（21件）\n",
    "* ``aisles.csv``: 商品棚（サブカテゴリ）に関するデータ（134件）\n",
    "* ``products.csv``: 商品に関するデータ（約5万件）\n",
    "* ``orders.csv``: 注文に関するデータ（約20万6000ユーザによる約340万件の注文）\n",
    "* ``order_products__train.csv``: 各Instacartユーザが最も最近行った注文の明細データ\n",
    "* ``order_products__prior.csv``: 各Instacartユーザが過去に行った注文の明細データ（最も最近の注文を除く）\n",
    "\n",
    "各csvファイルの詳細は，``data/instacart``ディレクトリの``data-recipe.md``ファイルで確認することができる．"
   ]
  },
  {
   "cell_type": "markdown",
   "metadata": {},
   "source": [
    "### Q1. データベース作成\n",
    "ダウンロードしたcsvファイル内のデータをSQLiteのデータベースに格納せよ．テーブル名は``department``のように，csvファイル名から拡張子を取り除いたものにせよ．ただし，``order_products__train.csv``と``order_products__prior.csv``のデータについては，``order_products``というテーブルを作成し，そこにデータを格納せよ．カラム情報は``data/instacart``ディレクトリの``data-recipe.md``ファイルに記した内容に従うこと．\n",
    "\n",
    "なお，必要であれば，``data/instacart``ディレクトリの``init_sqlite.sql``ファイルを利用してもよい．"
   ]
  },
  {
   "cell_type": "markdown",
   "metadata": {},
   "source": [
    "### Q2. pandasデータフレームへの読み込み\n",
    "``pandas``ライブラリの``read_sql``関数を用いると，SQLite上にあるデータベースにSQLを発行し，その結果を``pandas.DataFrame``データフレームに読み出すことができる．下記コードは，SQLite上にある``instacart``データベースの``department``テーブルの内容をデータフレームに読み込む例である．\n",
    "\n",
    "``products``テーブル，``aisles``テーブル，``departments``テーブル，``orders``テーブル，``order_products``テーブルのレコード数を調べるSQL文を発行し，各テーブルのレコード数を表示せよ．"
   ]
  },
  {
   "cell_type": "code",
   "execution_count": 1,
   "metadata": {},
   "outputs": [],
   "source": [
    "import sqlite3\n",
    "import pandas as pd\n",
    "import pandas.io.sql as psql"
   ]
  },
  {
   "cell_type": "code",
   "execution_count": 2,
   "metadata": {},
   "outputs": [
    {
     "data": {
      "text/html": [
       "<div>\n",
       "<style scoped>\n",
       "    .dataframe tbody tr th:only-of-type {\n",
       "        vertical-align: middle;\n",
       "    }\n",
       "\n",
       "    .dataframe tbody tr th {\n",
       "        vertical-align: top;\n",
       "    }\n",
       "\n",
       "    .dataframe thead th {\n",
       "        text-align: right;\n",
       "    }\n",
       "</style>\n",
       "<table border=\"1\" class=\"dataframe\">\n",
       "  <thead>\n",
       "    <tr style=\"text-align: right;\">\n",
       "      <th></th>\n",
       "      <th>department_id</th>\n",
       "      <th>department</th>\n",
       "    </tr>\n",
       "  </thead>\n",
       "  <tbody>\n",
       "    <tr>\n",
       "      <th>0</th>\n",
       "      <td>1</td>\n",
       "      <td>frozen</td>\n",
       "    </tr>\n",
       "    <tr>\n",
       "      <th>1</th>\n",
       "      <td>2</td>\n",
       "      <td>other</td>\n",
       "    </tr>\n",
       "    <tr>\n",
       "      <th>2</th>\n",
       "      <td>3</td>\n",
       "      <td>bakery</td>\n",
       "    </tr>\n",
       "    <tr>\n",
       "      <th>3</th>\n",
       "      <td>4</td>\n",
       "      <td>produce</td>\n",
       "    </tr>\n",
       "    <tr>\n",
       "      <th>4</th>\n",
       "      <td>5</td>\n",
       "      <td>alcohol</td>\n",
       "    </tr>\n",
       "  </tbody>\n",
       "</table>\n",
       "</div>"
      ],
      "text/plain": [
       "   department_id department\n",
       "0              1     frozen\n",
       "1              2      other\n",
       "2              3     bakery\n",
       "3              4    produce\n",
       "4              5    alcohol"
      ]
     },
     "execution_count": 2,
     "metadata": {},
     "output_type": "execute_result"
    }
   ],
   "source": [
    "db = sqlite3.connect('../data/instacart/instacart.db') # DBと接続する\n",
    "sql = \"SELECT * FROM departments;\"\n",
    "df = psql.read_sql(sql, db)\n",
    "db.close() # DBとの接続を閉じる（閉じないと開きっぱなしになるので注意）\n",
    "\n",
    "# 最初の5件を表示\n",
    "df.head()"
   ]
  },
  {
   "cell_type": "markdown",
   "metadata": {},
   "source": [
    "### Q3. マスターデータ作成（テーブル結合 & 集約演算）\n",
    "商品部門別および商品棚別に商品数を求めるSQL文を発行し，その結果をデータフレーム形式で表示せよ．なお，表示するデータフレームは下記の形式とせよ（ALLは特定のdepartmentにある全aisleを意味する）．また表示する結果は，商品数の降順でソートしたものとせよ．\n",
    "\n",
    "| |department |aisle |iterm_count|\n",
    "|---: |---:|---:|---:|\n",
    "|0 |personal care |ALL |6563 |\n",
    "|1 |personal care |vitamins supplements |1038 |\n",
    "|2 |personal care |hair care |816 |\n",
    "|... |... |... |... |"
   ]
  },
  {
   "cell_type": "markdown",
   "metadata": {},
   "source": [
    "### Q4. 注文行動に関する基礎情報（集約演算2）\n",
    "ユーザID毎に注文回数（``order_frequency``）および注文の平均間隔（``avg_order_interval``）を把握したい．注文回数が10回以上99以下のユーザに関して，ユーザID毎の注文回数と注文平均間隔を求めるSQL文を発行し，注文平均間隔の上位10件（昇順）のユーザ情報のみ表示せよ．結果はデータフレーム形式で表示せよ．"
   ]
  },
  {
   "cell_type": "markdown",
   "metadata": {},
   "source": [
    "### Q5. 注文タイミング（ヒートマップによる可視化）\n",
    "注文があった曜日および時間帯別（例: 土曜日の23時）の注文総数を集計するSQL文を発行し，その結果をヒートマップ形式で表示せよ．"
   ]
  },
  {
   "cell_type": "markdown",
   "metadata": {},
   "source": [
    "### Q6. 注文間隔（棒グラフによる可視化）\n",
    "前回の注文からの経過日数別に注文数を集計するSQL文を発行し，その結果を棒グラフで示せ．"
   ]
  },
  {
   "cell_type": "markdown",
   "metadata": {},
   "source": [
    "### Q7. ユーザの利用頻度（副問い合わせ）\n",
    "顧客の注文回数を集計することで注文回数別の顧客数を求めるSQL文を発行し，その結果を棒グラフで表示せよ．"
   ]
  },
  {
   "cell_type": "markdown",
   "metadata": {},
   "source": [
    "### Q8. 再注文率（SQL上での算術演算）\n",
    "商品売り場別の商品の注文総数および再注文率を計算するSQL文を発行し，その結果を表示せよ．なお，結果は再注文率でソートしたものを表示せよ．"
   ]
  },
  {
   "cell_type": "markdown",
   "metadata": {},
   "source": [
    "### Q9. 商品棚にみる注文回数の分布（Window関数で四分位数を求める）\n",
    "\"pantry\"売り場の商品棚別に注文回数の四分位数を求めるSQL文を発行し，その結果をデータフレームに格納し表示せよ．"
   ]
  },
  {
   "cell_type": "markdown",
   "metadata": {},
   "source": [
    "### Q10. 商品棚別の注文数および再注文率（リッチな可視化）\n",
    "商品売り場別の商品の注文総数および再注文率を計算するSQL文を発行し，その結果をデータフレームに格納せよ．また，集計結果をもとに，X軸に注文総数（対数スケール），Y軸に再注文率とする散布図を描け．"
   ]
  }
 ],
 "metadata": {
  "kernelspec": {
   "display_name": "Python 3",
   "language": "python",
   "name": "python3"
  },
  "language_info": {
   "codemirror_mode": {
    "name": "ipython",
    "version": 3
   },
   "file_extension": ".py",
   "mimetype": "text/x-python",
   "name": "python",
   "nbconvert_exporter": "python",
   "pygments_lexer": "ipython3",
   "version": "3.8.2"
  }
 },
 "nbformat": 4,
 "nbformat_minor": 4
}
