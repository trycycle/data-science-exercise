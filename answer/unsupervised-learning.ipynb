{
 "cells": [
  {
   "cell_type": "markdown",
   "metadata": {},
   "source": [
    "# 教師なし学習"
   ]
  },
  {
   "cell_type": "markdown",
   "metadata": {},
   "source": [
    "### Q1. 類似度（1/2）（ユークリッド距離とコサイン類似度）\n",
    "下2次元のユークリッド空間上に，13個のデータ点が図のように分布している状況を考える（各点の座標については，下記コードのリスト``data``に収められている）．\n",
    "\n",
    "N次元空間上の任意の点$v_1$，$v_2$が与えられたとき，$v_1$と$v_2$のユークリッド距離を求める関数``calc_euclidean_dist(v1, v2)``，コサイン類似度を求める関数``calc_cosine_sim(v1, v2)``を実装せよ．さらに，下図の13つの点のすべての組み合わせについて，そのユークリッド距離とコサイン類似度を求めよ．\n",
    "\n",
    "なお，実装する関数の第1引数および第2引数は，実数のリストを想定せよ．"
   ]
  },
  {
   "cell_type": "code",
   "execution_count": 1,
   "metadata": {},
   "outputs": [],
   "source": [
    "import seaborn as sns\n",
    "import matplotlib.pyplot as plt\n",
    "\n",
    "sns.set()\n",
    "sns.set_style('ticks')\n",
    "%matplotlib inline"
   ]
  },
  {
   "cell_type": "code",
   "execution_count": 2,
   "metadata": {},
   "outputs": [
    {
     "data": {
      "image/png": "[encoded data removed]",
      "text/plain": [
       "<Figure size 432x288 with 1 Axes>"
      ]
     },
     "metadata": {
      "needs_background": "light"
     },
     "output_type": "display_data"
    }
   ],
   "source": [
    "data = [(2, 2), (3, 4), (5, 2), (10, 5), (9, 3),\n",
    "        (11, 4), (12, 3), (12, 6), (4, 10), (4, 8),\n",
    "        (6, 8), (7, 10), (7, 6)]\n",
    "\n",
    "xs, ys = zip(*data) # zipの逆操作\n",
    "\n",
    "# 可視化\n",
    "ax = sns.scatterplot(x=xs, y=ys)\n",
    "ax.set_xlim(0, 13)\n",
    "ax.set_ylim(0, 13)\n",
    "plt.show()"
   ]
  },
  {
   "cell_type": "code",
   "execution_count": 3,
   "metadata": {},
   "outputs": [],
   "source": [
    "import math\n",
    "\n",
    "def calc_euclidean_dist(v1, v2):\n",
    "    tmp = 0\n",
    "    for e1, e2 in zip(v1, v2):\n",
    "        tmp += (e1 - e2) ** 2\n",
    "    else:\n",
    "        dist = math.sqrt(tmp)\n",
    "    return dist\n",
    "\n",
    "\n",
    "def calc_cosine_sim(v1, v2):\n",
    "    inner_product = 0\n",
    "    norm1 = 0\n",
    "    norm2 = 0\n",
    "    \n",
    "    for e1, e2 in zip(v1, v2):\n",
    "        inner_product += e1 * e2\n",
    "        norm1 += e1 ** 2\n",
    "        norm2 += e2 ** 2\n",
    "    else:\n",
    "        norm1 = math.sqrt(norm1)\n",
    "        norm2 = math.sqrt(norm2)\n",
    "        sim = inner_product / (norm1 * norm2)\n",
    "    return sim"
   ]
  },
  {
   "cell_type": "code",
   "execution_count": 4,
   "metadata": {},
   "outputs": [],
   "source": [
    "euclidean_dists = {}\n",
    "cosine_sims = {}\n",
    "\n",
    "for i in range(len(data)):\n",
    "    for j in range(i, len(data)):\n",
    "        if i != j:\n",
    "            euclidean_dists[(i, j)] = calc_euclidean_dist(data[i], data[j])\n",
    "            cosine_sims[(i, j)] = calc_cosine_sim(data[i], data[j])\n"
   ]
  },
  {
   "cell_type": "code",
   "execution_count": 5,
   "metadata": {},
   "outputs": [
    {
     "name": "stdout",
     "output_type": "stream",
     "text": [
      "Euclidean distance:\n"
     ]
    },
    {
     "data": {
      "text/plain": [
       "{(0, 1): 2.23606797749979,\n",
       " (0, 2): 3.0,\n",
       " (0, 3): 8.54400374531753,\n",
       " (0, 4): 7.0710678118654755,\n",
       " (0, 5): 9.219544457292887,\n",
       " (0, 6): 10.04987562112089,\n",
       " (0, 7): 10.770329614269007,\n",
       " (0, 8): 8.246211251235321,\n",
       " (0, 9): 6.324555320336759,\n",
       " (0, 10): 7.211102550927978,\n",
       " (0, 11): 9.433981132056603,\n",
       " (0, 12): 6.4031242374328485,\n",
       " (1, 2): 2.8284271247461903,\n",
       " (1, 3): 7.0710678118654755,\n",
       " (1, 4): 6.082762530298219,\n",
       " (1, 5): 8.0,\n",
       " (1, 6): 9.055385138137417,\n",
       " (1, 7): 9.219544457292887,\n",
       " (1, 8): 6.082762530298219,\n",
       " (1, 9): 4.123105625617661,\n",
       " (1, 10): 5.0,\n",
       " (1, 11): 7.211102550927978,\n",
       " (1, 12): 4.47213595499958,\n",
       " (2, 3): 5.830951894845301,\n",
       " (2, 4): 4.123105625617661,\n",
       " (2, 5): 6.324555320336759,\n",
       " (2, 6): 7.0710678118654755,\n",
       " (2, 7): 8.06225774829855,\n",
       " (2, 8): 8.06225774829855,\n",
       " (2, 9): 6.082762530298219,\n",
       " (2, 10): 6.082762530298219,\n",
       " (2, 11): 8.246211251235321,\n",
       " (2, 12): 4.47213595499958,\n",
       " (3, 4): 2.23606797749979,\n",
       " (3, 5): 1.4142135623730951,\n",
       " (3, 6): 2.8284271247461903,\n",
       " (3, 7): 2.23606797749979,\n",
       " (3, 8): 7.810249675906654,\n",
       " (3, 9): 6.708203932499369,\n",
       " (3, 10): 5.0,\n",
       " (3, 11): 5.830951894845301,\n",
       " (3, 12): 3.1622776601683795,\n",
       " (4, 5): 2.23606797749979,\n",
       " (4, 6): 3.0,\n",
       " (4, 7): 4.242640687119285,\n",
       " (4, 8): 8.602325267042627,\n",
       " (4, 9): 7.0710678118654755,\n",
       " (4, 10): 5.830951894845301,\n",
       " (4, 11): 7.280109889280518,\n",
       " (4, 12): 3.605551275463989,\n",
       " (5, 6): 1.4142135623730951,\n",
       " (5, 7): 2.23606797749979,\n",
       " (5, 8): 9.219544457292887,\n",
       " (5, 9): 8.06225774829855,\n",
       " (5, 10): 6.4031242374328485,\n",
       " (5, 11): 7.211102550927978,\n",
       " (5, 12): 4.47213595499958,\n",
       " (6, 7): 3.0,\n",
       " (6, 8): 10.63014581273465,\n",
       " (6, 9): 9.433981132056603,\n",
       " (6, 10): 7.810249675906654,\n",
       " (6, 11): 8.602325267042627,\n",
       " (6, 12): 5.830951894845301,\n",
       " (7, 8): 8.94427190999916,\n",
       " (7, 9): 8.246211251235321,\n",
       " (7, 10): 6.324555320336759,\n",
       " (7, 11): 6.4031242374328485,\n",
       " (7, 12): 5.0,\n",
       " (8, 9): 2.0,\n",
       " (8, 10): 2.8284271247461903,\n",
       " (8, 11): 3.0,\n",
       " (8, 12): 5.0,\n",
       " (9, 10): 2.0,\n",
       " (9, 11): 3.605551275463989,\n",
       " (9, 12): 3.605551275463989,\n",
       " (10, 11): 2.23606797749979,\n",
       " (10, 12): 2.23606797749979,\n",
       " (11, 12): 4.0}"
      ]
     },
     "execution_count": 5,
     "metadata": {},
     "output_type": "execute_result"
    }
   ],
   "source": [
    "print(\"Euclidean distance:\")\n",
    "euclidean_dists"
   ]
  },
  {
   "cell_type": "code",
   "execution_count": 6,
   "metadata": {},
   "outputs": [
    {
     "name": "stdout",
     "output_type": "stream",
     "text": [
      "Cosine similarity\n"
     ]
    },
    {
     "data": {
      "text/plain": [
       "{(0, 1): 0.9899494936611665,\n",
       " (0, 2): 0.9191450300180578,\n",
       " (0, 3): 0.9486832980505138,\n",
       " (0, 4): 0.8944271909999159,\n",
       " (0, 5): 0.9061831399952652,\n",
       " (0, 6): 0.8574929257125442,\n",
       " (0, 7): 0.9486832980505137,\n",
       " (0, 8): 0.9191450300180578,\n",
       " (0, 9): 0.9486832980505138,\n",
       " (0, 10): 0.9899494936611665,\n",
       " (0, 11): 0.9847835588179369,\n",
       " (0, 12): 0.9970544855015815,\n",
       " (1, 2): 0.8541985556144386,\n",
       " (1, 3): 0.8944271909999159,\n",
       " (1, 4): 0.8221921916437785,\n",
       " (1, 5): 0.8372705045624257,\n",
       " (1, 6): 0.7761140001162656,\n",
       " (1, 7): 0.8944271909999157,\n",
       " (1, 8): 0.9656157585206697,\n",
       " (1, 9): 0.9838699100999074,\n",
       " (1, 10): 1.0,\n",
       " (1, 11): 0.9994629430332294,\n",
       " (1, 12): 0.9761870601839528,\n",
       " (2, 3): 0.9965457582448797,\n",
       " (2, 4): 0.9982743731749959,\n",
       " (2, 5): 0.9994964752953674,\n",
       " (2, 6): 0.9908301680442991,\n",
       " (2, 7): 0.9965457582448797,\n",
       " (2, 8): 0.6896551724137931,\n",
       " (2, 9): 0.7474093186836597,\n",
       " (2, 10): 0.8541985556144386,\n",
       " (2, 11): 0.8367015168942039,\n",
       " (2, 12): 0.9466499060501441,\n",
       " (3, 4): 0.9899494936611665,\n",
       " (3, 5): 0.993408935871131,\n",
       " (3, 6): 0.9761870601839528,\n",
       " (3, 7): 0.9999999999999998,\n",
       " (3, 8): 0.7474093186836598,\n",
       " (3, 9): 0.7999999999999999,\n",
       " (3, 10): 0.8944271909999159,\n",
       " (3, 11): 0.8792919665367741,\n",
       " (3, 12): 0.9701425001453319,\n",
       " (4, 5): 0.9996349698728535,\n",
       " (4, 6): 0.9970544855015816,\n",
       " (4, 7): 0.9899494936611665,\n",
       " (4, 8): 0.6459422414661738,\n",
       " (4, 9): 0.7071067811865475,\n",
       " (4, 10): 0.8221921916437785,\n",
       " (4, 11): 0.8030980282338017,\n",
       " (4, 12): 0.9260923597695476,\n",
       " (5, 6): 0.9946184088907779,\n",
       " (5, 7): 0.993408935871131,\n",
       " (5, 8): 0.666330983530245,\n",
       " (5, 9): 0.7259526839058266,\n",
       " (5, 10): 0.8372705045624257,\n",
       " (5, 11): 0.8189029657474978,\n",
       " (5, 12): 0.9359477990383271,\n",
       " (6, 7): 0.9761870601839528,\n",
       " (6, 8): 0.5854905538443586,\n",
       " (6, 9): 0.6507913734559685,\n",
       " (6, 10): 0.7761140001162656,\n",
       " (6, 11): 0.7550331183926436,\n",
       " (6, 12): 0.894427190999916,\n",
       " (7, 8): 0.7474093186836598,\n",
       " (7, 9): 0.7999999999999999,\n",
       " (7, 10): 0.8944271909999157,\n",
       " (7, 11): 0.8792919665367741,\n",
       " (7, 12): 0.9701425001453319,\n",
       " (8, 9): 0.9965457582448796,\n",
       " (8, 10): 0.9656157585206697,\n",
       " (8, 11): 0.973616310567801,\n",
       " (8, 12): 0.886225443961837,\n",
       " (9, 10): 0.9838699100999074,\n",
       " (9, 11): 0.9892034623538708,\n",
       " (9, 12): 0.9216353751380653,\n",
       " (10, 11): 0.9994629430332294,\n",
       " (10, 12): 0.9761870601839528,\n",
       " (11, 12): 0.9685541378992956}"
      ]
     },
     "execution_count": 6,
     "metadata": {},
     "output_type": "execute_result"
    }
   ],
   "source": [
    "print(\"Cosine similarity\")\n",
    "cosine_sims"
   ]
  },
  {
   "cell_type": "markdown",
   "metadata": {},
   "source": [
    "### Q2. 類似度（2/2）（類似度の解釈）\n",
    "Q1で扱ったデータ集合において，点$v=(11, 4)$との最も類似する点（最近傍点）を求めたい．ユークリッド空間の各次元の意味，最近傍点の定義が下記のような設定である場合，点の類似性を評価する関数としてユークリッド距離，コサイン類似度のどちらを用いるのが適切か考察しながら，最近傍点を求めよ．\n",
    "\n",
    "1. 各点は都市の位置情報を表しており，第1次元は「緯度」，第2次元は「経度」を意味する．最近傍点として，**物理的距離が近い都市**を見つけたいケース．\n",
    "2. 各点はユーザの購買傾向を表しており，第1次元は「ジャンルAに属する商品を購入した回数」，第2次元は「ジャンルBに属する商品を購入した回数」を意味する．最近傍点として，**購買傾向が似ているユーザ**を見つけたいケース．"
   ]
  },
  {
   "cell_type": "code",
   "execution_count": 7,
   "metadata": {},
   "outputs": [
    {
     "data": {
      "text/plain": [
       "(10, 5)"
      ]
     },
     "execution_count": 7,
     "metadata": {},
     "output_type": "execute_result"
    }
   ],
   "source": [
    "# ケース1\n",
    "sorted(data, key=lambda x: calc_euclidean_dist((11, 4), x))[1]"
   ]
  },
  {
   "cell_type": "code",
   "execution_count": 8,
   "metadata": {},
   "outputs": [
    {
     "data": {
      "text/plain": [
       "(9, 3)"
      ]
     },
     "execution_count": 8,
     "metadata": {},
     "output_type": "execute_result"
    }
   ],
   "source": [
    "# ケース2\n",
    "sorted(data, key=lambda x: calc_cosine_sim((11, 4), x), reverse=True)[1]"
   ]
  },
  {
   "cell_type": "markdown",
   "metadata": {},
   "source": [
    "#### 補足：SciPyを使った距離行列の計算"
   ]
  },
  {
   "cell_type": "code",
   "execution_count": 9,
   "metadata": {},
   "outputs": [
    {
     "name": "stdout",
     "output_type": "stream",
     "text": [
      "Euclidean dist:\n",
      "[[ 0.          2.23606798  3.          8.54400375  7.07106781  9.21954446\n",
      "  10.04987562 10.77032961  8.24621125  6.32455532  7.21110255  9.43398113\n",
      "   6.40312424]\n",
      " [ 2.23606798  0.          2.82842712  7.07106781  6.08276253  8.\n",
      "   9.05538514  9.21954446  6.08276253  4.12310563  5.          7.21110255\n",
      "   4.47213595]\n",
      " [ 3.          2.82842712  0.          5.83095189  4.12310563  6.32455532\n",
      "   7.07106781  8.06225775  8.06225775  6.08276253  6.08276253  8.24621125\n",
      "   4.47213595]\n",
      " [ 8.54400375  7.07106781  5.83095189  0.          2.23606798  1.41421356\n",
      "   2.82842712  2.23606798  7.81024968  6.70820393  5.          5.83095189\n",
      "   3.16227766]\n",
      " [ 7.07106781  6.08276253  4.12310563  2.23606798  0.          2.23606798\n",
      "   3.          4.24264069  8.60232527  7.07106781  5.83095189  7.28010989\n",
      "   3.60555128]\n",
      " [ 9.21954446  8.          6.32455532  1.41421356  2.23606798  0.\n",
      "   1.41421356  2.23606798  9.21954446  8.06225775  6.40312424  7.21110255\n",
      "   4.47213595]\n",
      " [10.04987562  9.05538514  7.07106781  2.82842712  3.          1.41421356\n",
      "   0.          3.         10.63014581  9.43398113  7.81024968  8.60232527\n",
      "   5.83095189]\n",
      " [10.77032961  9.21954446  8.06225775  2.23606798  4.24264069  2.23606798\n",
      "   3.          0.          8.94427191  8.24621125  6.32455532  6.40312424\n",
      "   5.        ]\n",
      " [ 8.24621125  6.08276253  8.06225775  7.81024968  8.60232527  9.21954446\n",
      "  10.63014581  8.94427191  0.          2.          2.82842712  3.\n",
      "   5.        ]\n",
      " [ 6.32455532  4.12310563  6.08276253  6.70820393  7.07106781  8.06225775\n",
      "   9.43398113  8.24621125  2.          0.          2.          3.60555128\n",
      "   3.60555128]\n",
      " [ 7.21110255  5.          6.08276253  5.          5.83095189  6.40312424\n",
      "   7.81024968  6.32455532  2.82842712  2.          0.          2.23606798\n",
      "   2.23606798]\n",
      " [ 9.43398113  7.21110255  8.24621125  5.83095189  7.28010989  7.21110255\n",
      "   8.60232527  6.40312424  3.          3.60555128  2.23606798  0.\n",
      "   4.        ]\n",
      " [ 6.40312424  4.47213595  4.47213595  3.16227766  3.60555128  4.47213595\n",
      "   5.83095189  5.          5.          3.60555128  2.23606798  4.\n",
      "   0.        ]]\n",
      "Cosine dist (1 - cosine similarity):\n",
      "[[2.22044605e-16 1.00505063e-02 8.08549700e-02 5.13167019e-02\n",
      "  1.05572809e-01 9.38168600e-02 1.42507074e-01 5.13167019e-02\n",
      "  8.08549700e-02 5.13167019e-02 1.00505063e-02 1.52164412e-02\n",
      "  2.94551450e-03]\n",
      " [1.00505063e-02 0.00000000e+00 1.45801444e-01 1.05572809e-01\n",
      "  1.77807808e-01 1.62729495e-01 2.23886000e-01 1.05572809e-01\n",
      "  3.43842415e-02 1.61300899e-02 0.00000000e+00 5.37056967e-04\n",
      "  2.38129398e-02]\n",
      " [8.08549700e-02 1.45801444e-01 0.00000000e+00 3.45424176e-03\n",
      "  1.72562683e-03 5.03524705e-04 9.16983196e-03 3.45424176e-03\n",
      "  3.10344828e-01 2.52590681e-01 1.45801444e-01 1.63298483e-01\n",
      "  5.33500939e-02]\n",
      " [5.13167019e-02 1.05572809e-01 3.45424176e-03 1.11022302e-16\n",
      "  1.00505063e-02 6.59106413e-03 2.38129398e-02 2.22044605e-16\n",
      "  2.52590681e-01 2.00000000e-01 1.05572809e-01 1.20708033e-01\n",
      "  2.98574999e-02]\n",
      " [1.05572809e-01 1.77807808e-01 1.72562683e-03 1.00505063e-02\n",
      "  0.00000000e+00 3.65030127e-04 2.94551450e-03 1.00505063e-02\n",
      "  3.54057759e-01 2.92893219e-01 1.77807808e-01 1.96901972e-01\n",
      "  7.39076402e-02]\n",
      " [9.38168600e-02 1.62729495e-01 5.03524705e-04 6.59106413e-03\n",
      "  3.65030127e-04 0.00000000e+00 5.38159111e-03 6.59106413e-03\n",
      "  3.33669016e-01 2.74047316e-01 1.62729495e-01 1.81097034e-01\n",
      "  6.40522010e-02]\n",
      " [1.42507074e-01 2.23886000e-01 9.16983196e-03 2.38129398e-02\n",
      "  2.94551450e-03 5.38159111e-03 0.00000000e+00 2.38129398e-02\n",
      "  4.14509446e-01 3.49208627e-01 2.23886000e-01 2.44966882e-01\n",
      "  1.05572809e-01]\n",
      " [5.13167019e-02 1.05572809e-01 3.45424176e-03 2.22044605e-16\n",
      "  1.00505063e-02 6.59106413e-03 2.38129398e-02 1.11022302e-16\n",
      "  2.52590681e-01 2.00000000e-01 1.05572809e-01 1.20708033e-01\n",
      "  2.98574999e-02]\n",
      " [8.08549700e-02 3.43842415e-02 3.10344828e-01 2.52590681e-01\n",
      "  3.54057759e-01 3.33669016e-01 4.14509446e-01 2.52590681e-01\n",
      "  0.00000000e+00 3.45424176e-03 3.43842415e-02 2.63836894e-02\n",
      "  1.13774556e-01]\n",
      " [5.13167019e-02 1.61300899e-02 2.52590681e-01 2.00000000e-01\n",
      "  2.92893219e-01 2.74047316e-01 3.49208627e-01 2.00000000e-01\n",
      "  3.45424176e-03 2.22044605e-16 1.61300899e-02 1.07965376e-02\n",
      "  7.83646249e-02]\n",
      " [1.00505063e-02 0.00000000e+00 1.45801444e-01 1.05572809e-01\n",
      "  1.77807808e-01 1.62729495e-01 2.23886000e-01 1.05572809e-01\n",
      "  3.43842415e-02 1.61300899e-02 0.00000000e+00 5.37056967e-04\n",
      "  2.38129398e-02]\n",
      " [1.52164412e-02 5.37056967e-04 1.63298483e-01 1.20708033e-01\n",
      "  1.96901972e-01 1.81097034e-01 2.44966882e-01 1.20708033e-01\n",
      "  2.63836894e-02 1.07965376e-02 5.37056967e-04 0.00000000e+00\n",
      "  3.14458621e-02]\n",
      " [2.94551450e-03 2.38129398e-02 5.33500939e-02 2.98574999e-02\n",
      "  7.39076402e-02 6.40522010e-02 1.05572809e-01 2.98574999e-02\n",
      "  1.13774556e-01 7.83646249e-02 2.38129398e-02 3.14458621e-02\n",
      "  0.00000000e+00]]\n"
     ]
    }
   ],
   "source": [
    "import numpy as np\n",
    "from scipy.spatial import distance\n",
    "\n",
    "M = np.array(data)\n",
    "\n",
    "dist_matrix = distance.cdist(M, M, metric='euclidean')\n",
    "print(\"Euclidean dist:\")\n",
    "print(dist_matrix)\n",
    "\n",
    "dist_matrix = distance.cdist(M, M, metric='cosine')\n",
    "print(\"Cosine dist (1 - cosine similarity):\")\n",
    "print(dist_matrix)"
   ]
  },
  {
   "cell_type": "markdown",
   "metadata": {},
   "source": [
    "### Q3. K-means（1/3）（実装）\n",
    "Q1で扱った13個のデータ点について，[K-means法](https://ja.wikipedia.org/wiki/K%E5%B9%B3%E5%9D%87%E6%B3%95)を用いて3つのクラスタに分割したい．\n",
    "\n",
    "K-means法は，N個のデータ集合$D=\\{x_1, x_2, ..., x_n\\}$が与えられたとき，以下の手順でデータ集合をK個のクラスタに分割する：\n",
    "1. データ集合からランダムにK個のデータを選択し，それぞれをクラスタ中心（centroid）とする．\n",
    "2. データ集合$D$中の各データ$d \\in D$について，K個のクラスタ中心との距離を比較し，最も距離が小さいクラスタにデータ$d$を割り当てる．\n",
    "3. 各クラスタに属するデータの重心（平均）をクラスタ中心として更新する．\n",
    "4. 各クラスタに割り当てられるデータが変化しなくなるまで，2と3の処理を繰り返す．\n",
    "\n",
    "上記手順に従ってK-means法を実装し，対象データを3つのクラスタに分割せよ．\n",
    "\n",
    "なお，この課題では``sklearn``ライブラリ等のクラスタリングメソッドを用いないこと．また，データ間の距離の計算にはユークリッド距離を用いよ．"
   ]
  },
  {
   "cell_type": "code",
   "execution_count": 10,
   "metadata": {},
   "outputs": [],
   "source": [
    "import random\n",
    "\n",
    "def kmeans(data, K=3, initial_centroids=[], max_iter_count=100):\n",
    "    # クラスタ中心の初期化\n",
    "    if initial_centroids:\n",
    "        centroids = initial_centroids\n",
    "    else:\n",
    "        centroids = random.sample(data, K)\n",
    "        \n",
    "    old_clusters = {cluster_id: [] for cluster_id in range(K)}\n",
    "    for _ in range(max_iter_count):\n",
    "        latest_clusters = {cluster_id: [] for cluster_id in range(K)}\n",
    "        for data_id, datum in enumerate(data):\n",
    "            # 最も近いセントロイドを取得\n",
    "            nearest_centroid = sorted(centroids, key=lambda centroid: calc_euclidean_dist(centroid, datum))[0]\n",
    "            cluster_id = centroids.index(nearest_centroid)\n",
    "            latest_clusters[cluster_id].append(data_id)\n",
    "        else:\n",
    "            # クラスタリング結果が変わらなければ終了\n",
    "            if latest_clusters == old_clusters:\n",
    "                break\n",
    "            else:\n",
    "                for cluster_id, latest_cluster in latest_clusters.items():\n",
    "                    # セントロイドの更新\n",
    "                    data_in_cluster = [data[data_id] for data_id in latest_cluster]\n",
    "                    centroid_x = sum([d[0] for d in data_in_cluster]) / len(data_in_cluster)\n",
    "                    centroid_y = sum([d[1] for d in data_in_cluster]) / len(data_in_cluster)\n",
    "                    centroids[cluster_id] = (centroid_x, centroid_y)\n",
    "                else:\n",
    "                    old_clusters = latest_clusters\n",
    "\n",
    "    results = {cluster_id: [] for cluster_id in range(K)}\n",
    "    for cluster_id in latest_clusters:\n",
    "        for data_id in latest_clusters[cluster_id]:\n",
    "            results[cluster_id].append(data[data_id])\n",
    "\n",
    "    return results"
   ]
  },
  {
   "cell_type": "code",
   "execution_count": 11,
   "metadata": {},
   "outputs": [
    {
     "data": {
      "text/plain": [
       "{0: [(2, 2), (3, 4), (5, 2)],\n",
       " 1: [(4, 10), (4, 8), (6, 8), (7, 10), (7, 6)],\n",
       " 2: [(10, 5), (9, 3), (11, 4), (12, 3), (12, 6)]}"
      ]
     },
     "execution_count": 11,
     "metadata": {},
     "output_type": "execute_result"
    }
   ],
   "source": [
    "kmeans(data)"
   ]
  },
  {
   "cell_type": "markdown",
   "metadata": {},
   "source": [
    "### Q4. K-means（2/3）（初期値）\n",
    "Q4で実装したK-means法は，クラスタ中心の初期値をランダムに割り当てているため，初期値によってはクラスタリングの結果が大きく変わってしまうことがある．この問題を回避するために，様々なアプローチが提案されている．KKZ法はクラスタ中心の初期化手法の1つであり，「最も距離が離れているデータ同士を初期値クラスタ中心を選択する」というものである．KKZ法の具体的な手順は以下の通りである：\n",
    "\n",
    "1. 与えられたデータ集合$D$からデータ同士の距離が最大となる2つのデータを選択する．それら2つを初期のクラスタ中心$c1$，$c2$とする．\n",
    "2. 初期のクラスタ中心として選ばれていない各データについて，既に選ばれている各クラスタ中心との距離を計算し，その最小値を保存しておく．\n",
    "3. ステップ2で計算した値が最大となるデータ$d$を初期のクラスタ中心として追加する．\n",
    "4. 初期のクラスタ中心がK個（クラスタ分割数）になるまで，ステップ2および3を繰り返す．\n",
    "\n",
    "KKZ法によって初期クラスタ中心を選択する関数``find_initial_centroids``を実装し，Q4で実装したK-means法を改良せよ．"
   ]
  },
  {
   "cell_type": "code",
   "execution_count": 12,
   "metadata": {},
   "outputs": [],
   "source": [
    "def find_initial_centroids(data, K=3):\n",
    "    # 距離行列を計算しておく\n",
    "    dist_matrix = {}\n",
    "    for i in range(len(data)):\n",
    "        for j in range(i, len(data)):\n",
    "            if i != j:\n",
    "                dist_matrix[(i, j)] = calc_euclidean_dist(data[i], data[j])\n",
    "\n",
    "    # 初期クラスタ中心の2つを選択\n",
    "    centroid_data_ids = []\n",
    "    most_distant_pair, dist = sorted(dist_matrix.items(), key=lambda x:-x[1])[0]\n",
    "    centroid_data_ids.append(most_distant_pair[0])\n",
    "    centroid_data_ids.append(most_distant_pair[1])\n",
    "\n",
    "    \n",
    "    # 初期クラスタ中心から最も遠いデータ点を探し，初期クラスタに追加する操作を繰り返す\n",
    "    while len(centroid_data_ids) < K:\n",
    "        min_distances_from_centroid = {}\n",
    "        for i in range(len(data)):\n",
    "            if i not in centroid_data_ids:\n",
    "                distances_from_centroids = []\n",
    "                for centroid_data_id in centroid_data_ids:        \n",
    "                    distances_from_centroids.append(calc_euclidean_dist(data[i], data[centroid_data_id]))\n",
    "                min_distances_from_centroid[i] = min(distances_from_centroids)\n",
    "\n",
    "        next_centroid_data_id, _ = sorted(min_distances_from_centroid.items(), key=lambda x:-x[1])[0]\n",
    "        centroid_data_ids.append(next_centroid_data_id)\n",
    "\n",
    "    initial_centroids = [data[data_id] for data_id in centroid_data_ids]\n",
    "    return initial_centroids"
   ]
  },
  {
   "cell_type": "code",
   "execution_count": 13,
   "metadata": {},
   "outputs": [
    {
     "data": {
      "text/plain": [
       "{0: [(2, 2), (3, 4), (5, 2)],\n",
       " 1: [(10, 5), (9, 3), (11, 4), (12, 3), (12, 6)],\n",
       " 2: [(4, 10), (4, 8), (6, 8), (7, 10), (7, 6)]}"
      ]
     },
     "execution_count": 13,
     "metadata": {},
     "output_type": "execute_result"
    }
   ],
   "source": [
    "initial_centroids = find_initial_centroids(data, K=3)\n",
    "kmeans(data, 3, initial_centroids)"
   ]
  },
  {
   "cell_type": "markdown",
   "metadata": {},
   "source": [
    "### Q5. K-means（3/3）（クラスタ数の決定）\n",
    "クラスタリングによってデータを分割し，データ集合が性質もつ考察するためには，クラスタが細かくなりすぎないかつある程度意味をなすクラスタのサイズにデータを分割する必要がある．ところで，K-means法は分割後のクラスタ数を指定する必要があるが，現実的にはクラスタリング時に最適なクラスタ数が分かっていることは稀である．このため，最適なクラスタ数を求める様々な方法が提案されている．\n",
    "\n",
    "クラスタ数をある数に指定したときに，その条件でのクラスタリング結果の質を評価する指標として，クラスタ内のデータとクラスタ中心との距離の差（残差）の平方和（SSE: Sum of Squared errors of prediction）を用いることがある．クラスタ数がk，$C_i$i番目のクラスタ，$x \\in C_i$はクラスタ$C_i$に含まれるデータ，$c_i$はクラスタ$C_i$の重心（平均値）とするとき，SSEは以下の式で定義される：\n",
    "\n",
    "$$\n",
    "SSE = \\sum^k_i \\sum_{x \\in C_i} |x - c_i|^2\n",
    "$$\n",
    "\n",
    "最適クラスタ数を決定する方法の1つに，クラスタ数を変化させながらSSEを計算し，SSEの値の変化パターンが大きく変わった際のクラスタ数を最適クラスタ数とするものがある．このアプローチを用いて，Q1で用いたデータをK-means法でクラスタリングする場合の最適クラスタ数を求めよ．"
   ]
  },
  {
   "cell_type": "code",
   "execution_count": 14,
   "metadata": {},
   "outputs": [],
   "source": [
    "def calc_SSE(clusters):\n",
    "    SSE = 0\n",
    "    for data_in_cluster in clusters:\n",
    "        centroid_x = sum([d[0] for d in data_in_cluster]) / len(data_in_cluster)\n",
    "        centroid_y = sum([d[1] for d in data_in_cluster]) / len(data_in_cluster)\n",
    "        centroid = (centroid_x, centroid_y)\n",
    "        \n",
    "        for d in data_in_cluster:\n",
    "            dist = calc_euclidean_dist(d, centroid)\n",
    "            SSE += dist ** 2\n",
    "\n",
    "    return SSE"
   ]
  },
  {
   "cell_type": "code",
   "execution_count": 15,
   "metadata": {},
   "outputs": [
    {
     "name": "stdout",
     "output_type": "stream",
     "text": [
      "(K = 2) SSE = 112.6\n",
      "(K = 3) SSE = 41.333333333333336\n",
      "(K = 4) SSE = 31.683333333333337\n",
      "(K = 5) SSE = 26.249999999999996\n",
      "(K = 6) SSE = 21.416666666666668\n",
      "(K = 7) SSE = 17.166666666666668\n",
      "(K = 8) SSE = 10.500000000000002\n",
      "(K = 9) SSE = 8.0\n",
      "(K = 10) SSE = 5.5\n",
      "(K = 11) SSE = 3.0\n",
      "(K = 12) SSE = 1.0000000000000002\n"
     ]
    }
   ],
   "source": [
    "SSEs = []\n",
    "for k in range(2, len(data)):\n",
    "    initial_centroids = find_initial_centroids(data, K=k)\n",
    "    cluster_dict = kmeans(data, k, initial_centroids)\n",
    "    clusters = cluster_dict.values()\n",
    "    avg_diameter = calc_SSE(clusters)\n",
    "    SSE = calc_SSE(clusters)\n",
    "    SSEs.append(SSE)\n",
    "    print(\"(K = {}) SSE = {}\".format(k, SSE))"
   ]
  },
  {
   "cell_type": "code",
   "execution_count": 16,
   "metadata": {},
   "outputs": [
    {
     "data": {
      "image/png": "[encoded data removed]",
      "text/plain": [
       "<Figure size 432x288 with 1 Axes>"
      ]
     },
     "metadata": {
      "needs_background": "light"
     },
     "output_type": "display_data"
    }
   ],
   "source": [
    "ax = sns.lineplot(x=[i+2 for i in range(len(SSEs))], y=SSEs)\n",
    "ax.set_xlim((0, 12))\n",
    "ax.set_xlabel(\"Cluster number (K)\")\n",
    "ax.set_ylabel(\"SSE\")\n",
    "plt.show()"
   ]
  },
  {
   "cell_type": "markdown",
   "metadata": {},
   "source": [
    "### Q6. 階層的クラスタリング\n",
    "Q1で扱った13個のデータ点について，[階層的クラスタリング法](http://www.kamishima.net/jp/clustering/)を用いて段階的にクラスタに分割したい．\n",
    "\n",
    "``scipy.cluster.hierarchy``ライブラリの``linkage``関数および``dendrogram``関数を用いて，Q1で扱ったデータに階層的クラスタリングを適用せよ．その際，階層的クラスタリングのクラスタ生成手法として下記3つの方法を用いて，クラスタの生成過程を結果を比較せよ：\n",
    "\n",
    "* セントロイド法（centroid）\n",
    "* 最短距離法（single linkage）\n",
    "* 最長距離法（complete linkage）\n",
    "\n",
    "なお，クラスタ間の距離の尺度にはユークリッド距離を用いること．"
   ]
  },
  {
   "cell_type": "code",
   "execution_count": 17,
   "metadata": {},
   "outputs": [],
   "source": [
    "from scipy.cluster.hierarchy import linkage, dendrogram\n",
    "\n",
    "# デンドログラム（階層的クラスタリング結果の樹形図）のラベルを準備\n",
    "labels = [\"({}, {})\".format(d[0], d[1]) for d in data]"
   ]
  },
  {
   "cell_type": "markdown",
   "metadata": {},
   "source": [
    "#### セントロイド法（centroid）"
   ]
  },
  {
   "cell_type": "code",
   "execution_count": 18,
   "metadata": {},
   "outputs": [
    {
     "data": {
      "image/png": "[encoded data removed]",
      "text/plain": [
       "<Figure size 432x288 with 1 Axes>"
      ]
     },
     "metadata": {
      "needs_background": "light"
     },
     "output_type": "display_data"
    }
   ],
   "source": [
    "clustering_result = linkage(data, metric='euclidean', method='centroid')\n",
    "dendrogram(clustering_result, labels=labels, leaf_rotation=90)\n",
    "plt.tick_params(labelsize=11)\n",
    "plt.show()"
   ]
  },
  {
   "cell_type": "markdown",
   "metadata": {},
   "source": [
    "#### 最短距離法（single linkage）"
   ]
  },
  {
   "cell_type": "code",
   "execution_count": 19,
   "metadata": {},
   "outputs": [
    {
     "data": {
      "image/png": "[encoded data removed]",
      "text/plain": [
       "<Figure size 432x288 with 1 Axes>"
      ]
     },
     "metadata": {
      "needs_background": "light"
     },
     "output_type": "display_data"
    }
   ],
   "source": [
    "clustering_result = linkage(data, metric='euclidean', method='single')\n",
    "dendrogram(clustering_result, labels=labels, leaf_rotation=90)\n",
    "plt.tick_params(labelsize=11)\n",
    "plt.show()"
   ]
  },
  {
   "cell_type": "markdown",
   "metadata": {},
   "source": [
    "#### 最長距離法（complete linkage）"
   ]
  },
  {
   "cell_type": "code",
   "execution_count": 20,
   "metadata": {},
   "outputs": [
    {
     "data": {
      "image/png": "[encoded data removed]",
      "text/plain": [
       "<Figure size 432x288 with 1 Axes>"
      ]
     },
     "metadata": {
      "needs_background": "light"
     },
     "output_type": "display_data"
    }
   ],
   "source": [
    "clustering_result = linkage(data, metric='euclidean', method='complete')\n",
    "dendrogram(clustering_result, labels=labels, leaf_rotation=90)\n",
    "plt.tick_params(labelsize=11)\n",
    "plt.show()"
   ]
  },
  {
   "cell_type": "markdown",
   "metadata": {},
   "source": [
    "### Q7. Instacartユーザの注文頻度情報の集計と整形\n",
    "Q7-Q10では，[「SQL & 探索的データ解析」](/eda.ipynb)の演習で扱ったInstacartのデータを用いる．\n",
    "\n",
    "Instacart利用ユーザの特徴を把握するために，以下の手順で分析を行いたい．\n",
    "1. ユーザ毎の商品の注文頻度を集計したデータを準備する\n",
    "2. 1で準備したデータをクラスタリングする\n",
    "3. クラスタ毎に注文頻度の高い商品を分析し，注文傾向を考察する\n",
    "\n",
    "事前準備として，Instacartのデータベースに対してSQL文を発行し，ユーザ毎に商品棚（aisle）別注文数を集計せよ．さらに得られた結果を\n",
    "* 行がユーザ\n",
    "* 列が商品棚別注文数\n",
    "\n",
    "に対応する``pandas``データフレームに格納せよ．なお，注文がない商品棚については注文数をゼロとすること．"
   ]
  },
  {
   "cell_type": "code",
   "execution_count": 21,
   "metadata": {},
   "outputs": [],
   "source": [
    "import sqlite3\n",
    "import pandas as pd\n",
    "import pandas.io.sql as psql"
   ]
  },
  {
   "cell_type": "code",
   "execution_count": 22,
   "metadata": {},
   "outputs": [],
   "source": [
    "db = sqlite3.connect('../data/instacart/instacart.db')\n",
    "sql = \"\"\"\n",
    "SELECT\n",
    "    o.user_id,\n",
    "    a.aisle,\n",
    "    COUNT(*) AS order_freq\n",
    "FROM\n",
    "    orders o\n",
    "    JOIN order_products op USING (order_id)\n",
    "    JOIN products p USING (product_id)\n",
    "    JOIN aisles a USING (aisle_id)\n",
    "GROUP BY\n",
    "    o.user_id,\n",
    "    a.aisle_id\n",
    "\"\"\"\n",
    "\n",
    "tidy_df = psql.read_sql(sql, db)\n",
    "db.close()"
   ]
  },
  {
   "cell_type": "code",
   "execution_count": 23,
   "metadata": {},
   "outputs": [
    {
     "data": {
      "text/html": [
       "<div>\n",
       "<style scoped>\n",
       "    .dataframe tbody tr th:only-of-type {\n",
       "        vertical-align: middle;\n",
       "    }\n",
       "\n",
       "    .dataframe tbody tr th {\n",
       "        vertical-align: top;\n",
       "    }\n",
       "\n",
       "    .dataframe thead th {\n",
       "        text-align: right;\n",
       "    }\n",
       "</style>\n",
       "<table border=\"1\" class=\"dataframe\">\n",
       "  <thead>\n",
       "    <tr style=\"text-align: right;\">\n",
       "      <th>aisle</th>\n",
       "      <th>air fresheners candles</th>\n",
       "      <th>asian foods</th>\n",
       "      <th>baby accessories</th>\n",
       "      <th>baby bath body care</th>\n",
       "      <th>baby food formula</th>\n",
       "      <th>bakery desserts</th>\n",
       "      <th>baking ingredients</th>\n",
       "      <th>baking supplies decor</th>\n",
       "      <th>beauty</th>\n",
       "      <th>beers coolers</th>\n",
       "      <th>...</th>\n",
       "      <th>spreads</th>\n",
       "      <th>tea</th>\n",
       "      <th>tofu meat alternatives</th>\n",
       "      <th>tortillas flat bread</th>\n",
       "      <th>trail mix snack mix</th>\n",
       "      <th>trash bags liners</th>\n",
       "      <th>vitamins supplements</th>\n",
       "      <th>water seltzer sparkling water</th>\n",
       "      <th>white wines</th>\n",
       "      <th>yogurt</th>\n",
       "    </tr>\n",
       "    <tr>\n",
       "      <th>user_id</th>\n",
       "      <th></th>\n",
       "      <th></th>\n",
       "      <th></th>\n",
       "      <th></th>\n",
       "      <th></th>\n",
       "      <th></th>\n",
       "      <th></th>\n",
       "      <th></th>\n",
       "      <th></th>\n",
       "      <th></th>\n",
       "      <th></th>\n",
       "      <th></th>\n",
       "      <th></th>\n",
       "      <th></th>\n",
       "      <th></th>\n",
       "      <th></th>\n",
       "      <th></th>\n",
       "      <th></th>\n",
       "      <th></th>\n",
       "      <th></th>\n",
       "      <th></th>\n",
       "    </tr>\n",
       "  </thead>\n",
       "  <tbody>\n",
       "    <tr>\n",
       "      <th>1</th>\n",
       "      <td>0.0</td>\n",
       "      <td>0.0</td>\n",
       "      <td>0.0</td>\n",
       "      <td>0.0</td>\n",
       "      <td>0.0</td>\n",
       "      <td>0.0</td>\n",
       "      <td>0.0</td>\n",
       "      <td>0.0</td>\n",
       "      <td>0.0</td>\n",
       "      <td>0.0</td>\n",
       "      <td>...</td>\n",
       "      <td>1.0</td>\n",
       "      <td>0.0</td>\n",
       "      <td>0.0</td>\n",
       "      <td>0.0</td>\n",
       "      <td>0.0</td>\n",
       "      <td>0.0</td>\n",
       "      <td>0.0</td>\n",
       "      <td>0.0</td>\n",
       "      <td>0.0</td>\n",
       "      <td>2.0</td>\n",
       "    </tr>\n",
       "    <tr>\n",
       "      <th>2</th>\n",
       "      <td>0.0</td>\n",
       "      <td>3.0</td>\n",
       "      <td>0.0</td>\n",
       "      <td>0.0</td>\n",
       "      <td>0.0</td>\n",
       "      <td>0.0</td>\n",
       "      <td>2.0</td>\n",
       "      <td>0.0</td>\n",
       "      <td>0.0</td>\n",
       "      <td>0.0</td>\n",
       "      <td>...</td>\n",
       "      <td>3.0</td>\n",
       "      <td>1.0</td>\n",
       "      <td>1.0</td>\n",
       "      <td>0.0</td>\n",
       "      <td>0.0</td>\n",
       "      <td>0.0</td>\n",
       "      <td>0.0</td>\n",
       "      <td>2.0</td>\n",
       "      <td>0.0</td>\n",
       "      <td>42.0</td>\n",
       "    </tr>\n",
       "    <tr>\n",
       "      <th>3</th>\n",
       "      <td>0.0</td>\n",
       "      <td>0.0</td>\n",
       "      <td>0.0</td>\n",
       "      <td>0.0</td>\n",
       "      <td>0.0</td>\n",
       "      <td>0.0</td>\n",
       "      <td>0.0</td>\n",
       "      <td>0.0</td>\n",
       "      <td>0.0</td>\n",
       "      <td>0.0</td>\n",
       "      <td>...</td>\n",
       "      <td>4.0</td>\n",
       "      <td>1.0</td>\n",
       "      <td>0.0</td>\n",
       "      <td>0.0</td>\n",
       "      <td>0.0</td>\n",
       "      <td>0.0</td>\n",
       "      <td>0.0</td>\n",
       "      <td>2.0</td>\n",
       "      <td>0.0</td>\n",
       "      <td>0.0</td>\n",
       "    </tr>\n",
       "    <tr>\n",
       "      <th>4</th>\n",
       "      <td>0.0</td>\n",
       "      <td>0.0</td>\n",
       "      <td>0.0</td>\n",
       "      <td>0.0</td>\n",
       "      <td>0.0</td>\n",
       "      <td>0.0</td>\n",
       "      <td>0.0</td>\n",
       "      <td>0.0</td>\n",
       "      <td>0.0</td>\n",
       "      <td>0.0</td>\n",
       "      <td>...</td>\n",
       "      <td>0.0</td>\n",
       "      <td>0.0</td>\n",
       "      <td>0.0</td>\n",
       "      <td>1.0</td>\n",
       "      <td>0.0</td>\n",
       "      <td>0.0</td>\n",
       "      <td>0.0</td>\n",
       "      <td>1.0</td>\n",
       "      <td>0.0</td>\n",
       "      <td>0.0</td>\n",
       "    </tr>\n",
       "    <tr>\n",
       "      <th>5</th>\n",
       "      <td>1.0</td>\n",
       "      <td>4.0</td>\n",
       "      <td>0.0</td>\n",
       "      <td>0.0</td>\n",
       "      <td>0.0</td>\n",
       "      <td>0.0</td>\n",
       "      <td>0.0</td>\n",
       "      <td>0.0</td>\n",
       "      <td>0.0</td>\n",
       "      <td>0.0</td>\n",
       "      <td>...</td>\n",
       "      <td>0.0</td>\n",
       "      <td>0.0</td>\n",
       "      <td>0.0</td>\n",
       "      <td>0.0</td>\n",
       "      <td>0.0</td>\n",
       "      <td>0.0</td>\n",
       "      <td>0.0</td>\n",
       "      <td>0.0</td>\n",
       "      <td>0.0</td>\n",
       "      <td>3.0</td>\n",
       "    </tr>\n",
       "    <tr>\n",
       "      <th>...</th>\n",
       "      <td>...</td>\n",
       "      <td>...</td>\n",
       "      <td>...</td>\n",
       "      <td>...</td>\n",
       "      <td>...</td>\n",
       "      <td>...</td>\n",
       "      <td>...</td>\n",
       "      <td>...</td>\n",
       "      <td>...</td>\n",
       "      <td>...</td>\n",
       "      <td>...</td>\n",
       "      <td>...</td>\n",
       "      <td>...</td>\n",
       "      <td>...</td>\n",
       "      <td>...</td>\n",
       "      <td>...</td>\n",
       "      <td>...</td>\n",
       "      <td>...</td>\n",
       "      <td>...</td>\n",
       "      <td>...</td>\n",
       "      <td>...</td>\n",
       "    </tr>\n",
       "    <tr>\n",
       "      <th>206205</th>\n",
       "      <td>0.0</td>\n",
       "      <td>0.0</td>\n",
       "      <td>1.0</td>\n",
       "      <td>0.0</td>\n",
       "      <td>0.0</td>\n",
       "      <td>0.0</td>\n",
       "      <td>0.0</td>\n",
       "      <td>0.0</td>\n",
       "      <td>0.0</td>\n",
       "      <td>0.0</td>\n",
       "      <td>...</td>\n",
       "      <td>0.0</td>\n",
       "      <td>0.0</td>\n",
       "      <td>0.0</td>\n",
       "      <td>0.0</td>\n",
       "      <td>0.0</td>\n",
       "      <td>0.0</td>\n",
       "      <td>0.0</td>\n",
       "      <td>0.0</td>\n",
       "      <td>0.0</td>\n",
       "      <td>9.0</td>\n",
       "    </tr>\n",
       "    <tr>\n",
       "      <th>206206</th>\n",
       "      <td>0.0</td>\n",
       "      <td>4.0</td>\n",
       "      <td>0.0</td>\n",
       "      <td>0.0</td>\n",
       "      <td>0.0</td>\n",
       "      <td>0.0</td>\n",
       "      <td>4.0</td>\n",
       "      <td>1.0</td>\n",
       "      <td>0.0</td>\n",
       "      <td>0.0</td>\n",
       "      <td>...</td>\n",
       "      <td>1.0</td>\n",
       "      <td>0.0</td>\n",
       "      <td>0.0</td>\n",
       "      <td>0.0</td>\n",
       "      <td>0.0</td>\n",
       "      <td>1.0</td>\n",
       "      <td>0.0</td>\n",
       "      <td>1.0</td>\n",
       "      <td>0.0</td>\n",
       "      <td>0.0</td>\n",
       "    </tr>\n",
       "    <tr>\n",
       "      <th>206207</th>\n",
       "      <td>0.0</td>\n",
       "      <td>0.0</td>\n",
       "      <td>0.0</td>\n",
       "      <td>0.0</td>\n",
       "      <td>1.0</td>\n",
       "      <td>0.0</td>\n",
       "      <td>0.0</td>\n",
       "      <td>0.0</td>\n",
       "      <td>0.0</td>\n",
       "      <td>0.0</td>\n",
       "      <td>...</td>\n",
       "      <td>3.0</td>\n",
       "      <td>4.0</td>\n",
       "      <td>0.0</td>\n",
       "      <td>2.0</td>\n",
       "      <td>1.0</td>\n",
       "      <td>0.0</td>\n",
       "      <td>0.0</td>\n",
       "      <td>11.0</td>\n",
       "      <td>0.0</td>\n",
       "      <td>15.0</td>\n",
       "    </tr>\n",
       "    <tr>\n",
       "      <th>206208</th>\n",
       "      <td>0.0</td>\n",
       "      <td>3.0</td>\n",
       "      <td>0.0</td>\n",
       "      <td>0.0</td>\n",
       "      <td>3.0</td>\n",
       "      <td>0.0</td>\n",
       "      <td>4.0</td>\n",
       "      <td>0.0</td>\n",
       "      <td>0.0</td>\n",
       "      <td>0.0</td>\n",
       "      <td>...</td>\n",
       "      <td>5.0</td>\n",
       "      <td>0.0</td>\n",
       "      <td>0.0</td>\n",
       "      <td>7.0</td>\n",
       "      <td>0.0</td>\n",
       "      <td>0.0</td>\n",
       "      <td>0.0</td>\n",
       "      <td>0.0</td>\n",
       "      <td>0.0</td>\n",
       "      <td>33.0</td>\n",
       "    </tr>\n",
       "    <tr>\n",
       "      <th>206209</th>\n",
       "      <td>0.0</td>\n",
       "      <td>1.0</td>\n",
       "      <td>0.0</td>\n",
       "      <td>0.0</td>\n",
       "      <td>0.0</td>\n",
       "      <td>0.0</td>\n",
       "      <td>0.0</td>\n",
       "      <td>0.0</td>\n",
       "      <td>0.0</td>\n",
       "      <td>0.0</td>\n",
       "      <td>...</td>\n",
       "      <td>0.0</td>\n",
       "      <td>0.0</td>\n",
       "      <td>0.0</td>\n",
       "      <td>0.0</td>\n",
       "      <td>0.0</td>\n",
       "      <td>1.0</td>\n",
       "      <td>0.0</td>\n",
       "      <td>0.0</td>\n",
       "      <td>0.0</td>\n",
       "      <td>3.0</td>\n",
       "    </tr>\n",
       "  </tbody>\n",
       "</table>\n",
       "<p>206209 rows × 134 columns</p>\n",
       "</div>"
      ],
      "text/plain": [
       "aisle    air fresheners candles  asian foods  baby accessories  \\\n",
       "user_id                                                          \n",
       "1                           0.0          0.0               0.0   \n",
       "2                           0.0          3.0               0.0   \n",
       "3                           0.0          0.0               0.0   \n",
       "4                           0.0          0.0               0.0   \n",
       "5                           1.0          4.0               0.0   \n",
       "...                         ...          ...               ...   \n",
       "206205                      0.0          0.0               1.0   \n",
       "206206                      0.0          4.0               0.0   \n",
       "206207                      0.0          0.0               0.0   \n",
       "206208                      0.0          3.0               0.0   \n",
       "206209                      0.0          1.0               0.0   \n",
       "\n",
       "aisle    baby bath body care  baby food formula  bakery desserts  \\\n",
       "user_id                                                            \n",
       "1                        0.0                0.0              0.0   \n",
       "2                        0.0                0.0              0.0   \n",
       "3                        0.0                0.0              0.0   \n",
       "4                        0.0                0.0              0.0   \n",
       "5                        0.0                0.0              0.0   \n",
       "...                      ...                ...              ...   \n",
       "206205                   0.0                0.0              0.0   \n",
       "206206                   0.0                0.0              0.0   \n",
       "206207                   0.0                1.0              0.0   \n",
       "206208                   0.0                3.0              0.0   \n",
       "206209                   0.0                0.0              0.0   \n",
       "\n",
       "aisle    baking ingredients  baking supplies decor  beauty  beers coolers  \\\n",
       "user_id                                                                     \n",
       "1                       0.0                    0.0     0.0            0.0   \n",
       "2                       2.0                    0.0     0.0            0.0   \n",
       "3                       0.0                    0.0     0.0            0.0   \n",
       "4                       0.0                    0.0     0.0            0.0   \n",
       "5                       0.0                    0.0     0.0            0.0   \n",
       "...                     ...                    ...     ...            ...   \n",
       "206205                  0.0                    0.0     0.0            0.0   \n",
       "206206                  4.0                    1.0     0.0            0.0   \n",
       "206207                  0.0                    0.0     0.0            0.0   \n",
       "206208                  4.0                    0.0     0.0            0.0   \n",
       "206209                  0.0                    0.0     0.0            0.0   \n",
       "\n",
       "aisle    ...  spreads  tea  tofu meat alternatives  tortillas flat bread  \\\n",
       "user_id  ...                                                               \n",
       "1        ...      1.0  0.0                     0.0                   0.0   \n",
       "2        ...      3.0  1.0                     1.0                   0.0   \n",
       "3        ...      4.0  1.0                     0.0                   0.0   \n",
       "4        ...      0.0  0.0                     0.0                   1.0   \n",
       "5        ...      0.0  0.0                     0.0                   0.0   \n",
       "...      ...      ...  ...                     ...                   ...   \n",
       "206205   ...      0.0  0.0                     0.0                   0.0   \n",
       "206206   ...      1.0  0.0                     0.0                   0.0   \n",
       "206207   ...      3.0  4.0                     0.0                   2.0   \n",
       "206208   ...      5.0  0.0                     0.0                   7.0   \n",
       "206209   ...      0.0  0.0                     0.0                   0.0   \n",
       "\n",
       "aisle    trail mix snack mix  trash bags liners  vitamins supplements  \\\n",
       "user_id                                                                 \n",
       "1                        0.0                0.0                   0.0   \n",
       "2                        0.0                0.0                   0.0   \n",
       "3                        0.0                0.0                   0.0   \n",
       "4                        0.0                0.0                   0.0   \n",
       "5                        0.0                0.0                   0.0   \n",
       "...                      ...                ...                   ...   \n",
       "206205                   0.0                0.0                   0.0   \n",
       "206206                   0.0                1.0                   0.0   \n",
       "206207                   1.0                0.0                   0.0   \n",
       "206208                   0.0                0.0                   0.0   \n",
       "206209                   0.0                1.0                   0.0   \n",
       "\n",
       "aisle    water seltzer sparkling water  white wines  yogurt  \n",
       "user_id                                                      \n",
       "1                                  0.0          0.0     2.0  \n",
       "2                                  2.0          0.0    42.0  \n",
       "3                                  2.0          0.0     0.0  \n",
       "4                                  1.0          0.0     0.0  \n",
       "5                                  0.0          0.0     3.0  \n",
       "...                                ...          ...     ...  \n",
       "206205                             0.0          0.0     9.0  \n",
       "206206                             1.0          0.0     0.0  \n",
       "206207                            11.0          0.0    15.0  \n",
       "206208                             0.0          0.0    33.0  \n",
       "206209                             0.0          0.0     3.0  \n",
       "\n",
       "[206209 rows x 134 columns]"
      ]
     },
     "execution_count": 23,
     "metadata": {},
     "output_type": "execute_result"
    }
   ],
   "source": [
    "user_df = tidy_df.pivot_table(values='order_freq',\n",
    "                              index='user_id', columns='aisle')\n",
    "\n",
    "# NaNをゼロで埋める\n",
    "user_df = user_df.fillna(0)\n",
    "\n",
    "# 毎回時間のかかるSQLを発行するのを避けるため，データを保存しておく\n",
    "user_df.to_csv('../data/instacart/user_df.tsv', sep='\\t')\n",
    "\n",
    "user_df"
   ]
  },
  {
   "cell_type": "markdown",
   "metadata": {},
   "source": [
    "### Q8. 主成分分析による次元圧縮（1/2）\n",
    "Q7で準備したデータは206,209のユーザの134の商品棚に関する注文回数情報を保持しているが，属性数（商品棚数）も多いためデータの解釈が容易ではない．そこで，データ群の特徴を保持しながらデータを低次元空間に縮約したい（少ない変数で表現したい）．\n",
    "\n",
    "Q7で得られたデータに**主成分分析**を適用し，データを5次元に圧縮せよ．また，圧縮したデータを2つの主成分ベクトルが張る平面へ射影（例：第1主成分と第2主成分のみを取り出し）し，データの分布を散布図で可視化せよ．\n",
    "\n",
    "なお，Q7でユーザの商品棚別注文数に関するデータフレームが生成できなかった場合は，``data/instacart``ディレクトリにある``user_df.tsv``ファイルを読み込むことで，今回の課題に用いるデータフレームを用意することができる"
   ]
  },
  {
   "cell_type": "code",
   "execution_count": 24,
   "metadata": {},
   "outputs": [],
   "source": [
    "import pandas as pd\n",
    "from sklearn.decomposition import PCA"
   ]
  },
  {
   "cell_type": "code",
   "execution_count": 25,
   "metadata": {},
   "outputs": [],
   "source": [
    "# 'data/instacart/user_df.tsv'ファイルを読み込んで，user_dfを復帰させる\n",
    "user_df = pd.read_table('../data/instacart/user_df.tsv', index_col=0)"
   ]
  },
  {
   "cell_type": "code",
   "execution_count": 26,
   "metadata": {},
   "outputs": [
    {
     "data": {
      "text/html": [
       "<div>\n",
       "<style scoped>\n",
       "    .dataframe tbody tr th:only-of-type {\n",
       "        vertical-align: middle;\n",
       "    }\n",
       "\n",
       "    .dataframe tbody tr th {\n",
       "        vertical-align: top;\n",
       "    }\n",
       "\n",
       "    .dataframe thead th {\n",
       "        text-align: right;\n",
       "    }\n",
       "</style>\n",
       "<table border=\"1\" class=\"dataframe\">\n",
       "  <thead>\n",
       "    <tr style=\"text-align: right;\">\n",
       "      <th></th>\n",
       "      <th>PC1</th>\n",
       "      <th>PC2</th>\n",
       "      <th>PC3</th>\n",
       "      <th>PC4</th>\n",
       "      <th>PC5</th>\n",
       "    </tr>\n",
       "  </thead>\n",
       "  <tbody>\n",
       "    <tr>\n",
       "      <th>0</th>\n",
       "      <td>-24.811636</td>\n",
       "      <td>3.449193</td>\n",
       "      <td>-1.611593</td>\n",
       "      <td>-0.469967</td>\n",
       "      <td>0.500305</td>\n",
       "    </tr>\n",
       "    <tr>\n",
       "      <th>1</th>\n",
       "      <td>10.331587</td>\n",
       "      <td>39.529396</td>\n",
       "      <td>4.610954</td>\n",
       "      <td>14.683354</td>\n",
       "      <td>-7.376271</td>\n",
       "    </tr>\n",
       "    <tr>\n",
       "      <th>2</th>\n",
       "      <td>-9.247469</td>\n",
       "      <td>2.382711</td>\n",
       "      <td>-11.077055</td>\n",
       "      <td>0.846409</td>\n",
       "      <td>-0.395678</td>\n",
       "    </tr>\n",
       "    <tr>\n",
       "      <th>3</th>\n",
       "      <td>-29.242883</td>\n",
       "      <td>-0.880035</td>\n",
       "      <td>-1.984259</td>\n",
       "      <td>2.315304</td>\n",
       "      <td>-0.296397</td>\n",
       "    </tr>\n",
       "    <tr>\n",
       "      <th>4</th>\n",
       "      <td>-19.186003</td>\n",
       "      <td>-3.037864</td>\n",
       "      <td>0.186760</td>\n",
       "      <td>3.650945</td>\n",
       "      <td>0.856476</td>\n",
       "    </tr>\n",
       "    <tr>\n",
       "      <th>...</th>\n",
       "      <td>...</td>\n",
       "      <td>...</td>\n",
       "      <td>...</td>\n",
       "      <td>...</td>\n",
       "      <td>...</td>\n",
       "    </tr>\n",
       "    <tr>\n",
       "      <th>206204</th>\n",
       "      <td>-20.426644</td>\n",
       "      <td>5.176025</td>\n",
       "      <td>0.814335</td>\n",
       "      <td>7.350714</td>\n",
       "      <td>-0.053761</td>\n",
       "    </tr>\n",
       "    <tr>\n",
       "      <th>206205</th>\n",
       "      <td>-6.163290</td>\n",
       "      <td>-0.200360</td>\n",
       "      <td>5.265748</td>\n",
       "      <td>-20.829911</td>\n",
       "      <td>0.906405</td>\n",
       "    </tr>\n",
       "    <tr>\n",
       "      <th>206206</th>\n",
       "      <td>7.312526</td>\n",
       "      <td>7.660423</td>\n",
       "      <td>7.951987</td>\n",
       "      <td>-5.735410</td>\n",
       "      <td>1.753587</td>\n",
       "    </tr>\n",
       "    <tr>\n",
       "      <th>206207</th>\n",
       "      <td>82.725416</td>\n",
       "      <td>20.649793</td>\n",
       "      <td>8.150439</td>\n",
       "      <td>-15.427291</td>\n",
       "      <td>9.487309</td>\n",
       "    </tr>\n",
       "    <tr>\n",
       "      <th>206208</th>\n",
       "      <td>-14.326324</td>\n",
       "      <td>7.184042</td>\n",
       "      <td>-5.743660</td>\n",
       "      <td>-1.243926</td>\n",
       "      <td>1.554699</td>\n",
       "    </tr>\n",
       "  </tbody>\n",
       "</table>\n",
       "<p>206209 rows × 5 columns</p>\n",
       "</div>"
      ],
      "text/plain": [
       "              PC1        PC2        PC3        PC4       PC5\n",
       "0      -24.811636   3.449193  -1.611593  -0.469967  0.500305\n",
       "1       10.331587  39.529396   4.610954  14.683354 -7.376271\n",
       "2       -9.247469   2.382711 -11.077055   0.846409 -0.395678\n",
       "3      -29.242883  -0.880035  -1.984259   2.315304 -0.296397\n",
       "4      -19.186003  -3.037864   0.186760   3.650945  0.856476\n",
       "...           ...        ...        ...        ...       ...\n",
       "206204 -20.426644   5.176025   0.814335   7.350714 -0.053761\n",
       "206205  -6.163290  -0.200360   5.265748 -20.829911  0.906405\n",
       "206206   7.312526   7.660423   7.951987  -5.735410  1.753587\n",
       "206207  82.725416  20.649793   8.150439 -15.427291  9.487309\n",
       "206208 -14.326324   7.184042  -5.743660  -1.243926  1.554699\n",
       "\n",
       "[206209 rows x 5 columns]"
      ]
     },
     "execution_count": 26,
     "metadata": {},
     "output_type": "execute_result"
    }
   ],
   "source": [
    "component_num = 5\n",
    "pca = PCA(n_components=component_num)\n",
    "user_matrix_pca = pca.fit_transform(user_df)\n",
    "\n",
    "# 扱いやすくするためにNumPy行列をPandasデータフレームに\n",
    "user_df_pca = pd.DataFrame(user_matrix_pca) \n",
    "user_df_pca.columns = [\"PC{}\".format(i+1) for i in range(component_num)]\n",
    "user_df_pca"
   ]
  },
  {
   "cell_type": "markdown",
   "metadata": {},
   "source": [
    "#### 圧縮したデータを第i主成分ベクトルと第j主成分ベクトルが張る2次元平面に射影"
   ]
  },
  {
   "cell_type": "code",
   "execution_count": 27,
   "metadata": {},
   "outputs": [
    {
     "data": {
      "image/png": "[encoded data removed]",
      "text/plain": [
       "<Figure size 900x900 with 20 Axes>"
      ]
     },
     "metadata": {
      "needs_background": "light"
     },
     "output_type": "display_data"
    }
   ],
   "source": [
    "# すべての主成分の組み合わせを見る\n",
    "sns.pairplot(user_df_pca, palette=\"muted\", corner=True, plot_kws={\"s\": 10, \"alpha\":0.5, \"linewidth\":0})\n",
    "plt.show()"
   ]
  },
  {
   "cell_type": "markdown",
   "metadata": {},
   "source": [
    "### Q9. 主成分分析による次元圧縮（2/2）\n",
    "Q8で行った主成分分析の結果得られた第1主成分ベクトルから第5主成分ベクトルについて，その寄与率を表示せよ．また，各主成分ベクトルを構成する要素の大きさ（絶対値）順に上位20個の商品棚（aisle）を表示し，各主成分ベクトルが表す意味を考察せよ．"
   ]
  },
  {
   "cell_type": "markdown",
   "metadata": {},
   "source": [
    "#### 各主成分の寄与率"
   ]
  },
  {
   "cell_type": "code",
   "execution_count": 28,
   "metadata": {},
   "outputs": [
    {
     "data": {
      "text/plain": [
       "array([0.4786378 , 0.09640584, 0.05210072, 0.03604512, 0.02941749])"
      ]
     },
     "execution_count": 28,
     "metadata": {},
     "output_type": "execute_result"
    }
   ],
   "source": [
    "# 寄与率\n",
    "pca.explained_variance_ratio_"
   ]
  },
  {
   "cell_type": "markdown",
   "metadata": {},
   "source": [
    "#### 各主成分ベクトルで値が大きい要素Top20"
   ]
  },
  {
   "cell_type": "code",
   "execution_count": 29,
   "metadata": {},
   "outputs": [
    {
     "name": "stdout",
     "output_type": "stream",
     "text": [
      "==========\n",
      "第1主成分\n",
      "==========\n",
      "fresh fruits \t 0.627\n",
      "fresh vegetables \t 0.598\n",
      "packaged vegetables fruits \t 0.273\n",
      "yogurt \t 0.224\n",
      "packaged cheese \t 0.131\n",
      "milk \t 0.123\n",
      "soy lactosefree \t 0.085\n",
      "chips pretzels \t 0.076\n",
      "bread \t 0.076\n",
      "water seltzer sparkling water \t 0.075\n",
      "baby food formula \t 0.073\n",
      "frozen produce \t 0.069\n",
      "refrigerated \t 0.067\n",
      "fresh herbs \t 0.065\n",
      "energy granola bars \t 0.059\n",
      "eggs \t 0.055\n",
      "crackers \t 0.054\n",
      "lunch meat \t 0.050\n",
      "fresh dips tapenades \t 0.046\n",
      "ice cream ice \t 0.042\n",
      "\n",
      "==========\n",
      "第2主成分\n",
      "==========\n",
      "fresh vegetables \t -0.672\n",
      "yogurt \t 0.550\n",
      "fresh fruits \t 0.283\n",
      "water seltzer sparkling water \t 0.160\n",
      "energy granola bars \t 0.144\n",
      "milk \t 0.135\n",
      "chips pretzels \t 0.120\n",
      "refrigerated \t 0.104\n",
      "packaged cheese \t 0.087\n",
      "fresh herbs \t -0.084\n",
      "baby food formula \t 0.081\n",
      "cereal \t 0.069\n",
      "tea \t 0.067\n",
      "crackers \t 0.065\n",
      "candy chocolate \t 0.061\n",
      "bread \t 0.053\n",
      "soft drinks \t 0.050\n",
      "breakfast bakery \t 0.050\n",
      "cream \t 0.046\n",
      "frozen meals \t 0.046\n",
      "\n",
      "==========\n",
      "第3主成分\n",
      "==========\n",
      "yogurt \t 0.660\n",
      "fresh fruits \t -0.632\n",
      "fresh vegetables \t 0.347\n",
      "packaged produce \t -0.085\n",
      "water seltzer sparkling water \t 0.070\n",
      "packaged cheese \t 0.069\n",
      "refrigerated \t 0.059\n",
      "energy granola bars \t 0.052\n",
      "packaged vegetables fruits \t -0.045\n",
      "fresh herbs \t 0.041\n",
      "chips pretzels \t 0.038\n",
      "frozen meals \t 0.036\n",
      "canned jarred vegetables \t 0.033\n",
      "soup broth bouillon \t 0.032\n",
      "tea \t 0.032\n",
      "ice cream ice \t 0.030\n",
      "other creams cheeses \t 0.027\n",
      "milk \t 0.026\n",
      "candy chocolate \t 0.025\n",
      "cereal \t 0.025\n",
      "\n",
      "==========\n",
      "第4主成分\n",
      "==========\n",
      "water seltzer sparkling water \t -0.551\n",
      "yogurt \t 0.425\n",
      "chips pretzels \t -0.299\n",
      "fresh fruits \t 0.243\n",
      "refrigerated \t -0.218\n",
      "energy granola bars \t -0.213\n",
      "packaged cheese \t -0.156\n",
      "soft drinks \t -0.155\n",
      "packaged vegetables fruits \t -0.135\n",
      "ice cream ice \t -0.125\n",
      "crackers \t -0.124\n",
      "tea \t -0.115\n",
      "soy lactosefree \t -0.114\n",
      "frozen meals \t -0.111\n",
      "candy chocolate \t -0.110\n",
      "bread \t -0.100\n",
      "juice nectars \t -0.089\n",
      "cookies cakes \t -0.086\n",
      "lunch meat \t -0.086\n",
      "coffee \t -0.083\n",
      "\n",
      "==========\n",
      "第5主成分\n",
      "==========\n",
      "baby food formula \t 0.863\n",
      "water seltzer sparkling water \t -0.276\n",
      "packaged cheese \t 0.178\n",
      "milk \t 0.167\n",
      "fresh fruits \t -0.136\n",
      "packaged vegetables fruits \t 0.119\n",
      "energy granola bars \t -0.118\n",
      "yogurt \t -0.096\n",
      "bread \t 0.077\n",
      "tea \t -0.067\n",
      "refrigerated \t -0.067\n",
      "frozen breakfast \t 0.062\n",
      "frozen meals \t 0.061\n",
      "crackers \t 0.058\n",
      "fresh vegetables \t -0.056\n",
      "frozen produce \t 0.053\n",
      "instant foods \t 0.051\n",
      "frozen appetizers sides \t 0.046\n",
      "hot dogs bacon sausage \t 0.045\n",
      "lunch meat \t 0.045\n",
      "\n"
     ]
    }
   ],
   "source": [
    "# 固有ベクトル（主成分ベクトル）を取り出す\n",
    "eigenvector_df = pd.DataFrame(pca.components_, columns=list(user_df.columns))\n",
    "\n",
    "# 主成分ベクトル毎に値が大きい上位10件のaisleを表示\n",
    "for i in range(component_num):\n",
    "    important_aisles = sorted(dict(eigenvector_df.loc[i]).items(), key=lambda x:x[1]**2, reverse=True)[:20]\n",
    "\n",
    "    print(\"=\" * 10)\n",
    "    print(\"第{}主成分\".format(i+1))\n",
    "    print(\"=\" * 10)\n",
    "    for aisle, score in important_aisles:\n",
    "        print(aisle, \"\\t\", \"{:.3f}\".format(score))\n",
    "    print(\"\")"
   ]
  },
  {
   "cell_type": "markdown",
   "metadata": {},
   "source": [
    "### Q10. 次元圧縮結果を用いたクラスタリング\n",
    "Q9で圧縮したデータとK-means法を用いて，ユーザを5つのクラスタに分割せよ．さらに，各クラスタに属するユーザの商品棚注文数の平均値を計算し，各クラスタのユーザの特性について考察せよ．なお，この課題において第1主成分は「総合的な注文数を表す成分」と考えられるため，クラスタリングの際には第1主成分を無視せよ．\n",
    "\n",
    "* ヒント1：本課題では``sklearn``ライブラリの``cluster.KMeans``クラスを用いよ（計算速度が速い）\n",
    "* ヒント2：クラスタの初期設定は``cluster.KMeans``クラスのデフォルト設定（K-means++）に頼ればよい"
   ]
  },
  {
   "cell_type": "code",
   "execution_count": 30,
   "metadata": {},
   "outputs": [],
   "source": [
    "from sklearn.cluster import KMeans"
   ]
  },
  {
   "cell_type": "markdown",
   "metadata": {},
   "source": [
    "#### 最適クラスタ数の探索"
   ]
  },
  {
   "cell_type": "code",
   "execution_count": 31,
   "metadata": {},
   "outputs": [
    {
     "data": {
      "image/png": "[encoded data removed]",
      "text/plain": [
       "<Figure size 432x288 with 1 Axes>"
      ]
     },
     "metadata": {
      "needs_background": "light"
     },
     "output_type": "display_data"
    }
   ],
   "source": [
    "SSEs = []\n",
    "for k in range(1, 10):\n",
    "    kmeans = KMeans(n_clusters=k).fit(user_df_pca)\n",
    "    SSEs.append(kmeans.inertia_)\n",
    "\n",
    "ax = sns.lineplot(x=[i for i in range(1, 10)], y=SSEs)\n",
    "ax.set_xlim((0, 10))\n",
    "plt.show()"
   ]
  },
  {
   "cell_type": "markdown",
   "metadata": {},
   "source": [
    "#### K-means法の適用"
   ]
  },
  {
   "cell_type": "code",
   "execution_count": 32,
   "metadata": {},
   "outputs": [],
   "source": [
    "cluster_num = 5\n",
    "target_components = [\n",
    "#    'PC1', # 総合的な注文数を表す成分のため無視する\n",
    "    'PC2',\n",
    "    'PC3', \n",
    "    'PC4',\n",
    "    'PC5',\n",
    "]\n",
    "kmeans = KMeans(n_clusters=cluster_num).fit(user_df_pca[target_components])\n",
    "\n",
    "# ユーザにクラスタIDを割り当て\n",
    "user_df_pca['cluster_id'] = kmeans.labels_"
   ]
  },
  {
   "cell_type": "markdown",
   "metadata": {},
   "source": [
    "#### クラスタのサイズ"
   ]
  },
  {
   "cell_type": "code",
   "execution_count": 33,
   "metadata": {},
   "outputs": [
    {
     "data": {
      "text/plain": [
       "0    175382\n",
       "1     14016\n",
       "3     10473\n",
       "2      5625\n",
       "4       713\n",
       "Name: cluster_id, dtype: int64"
      ]
     },
     "execution_count": 33,
     "metadata": {},
     "output_type": "execute_result"
    }
   ],
   "source": [
    "user_df_pca['cluster_id'].value_counts()"
   ]
  },
  {
   "cell_type": "markdown",
   "metadata": {},
   "source": [
    "#### クラスタリング結果を踏まえて圧縮後のデータの分布を見る"
   ]
  },
  {
   "cell_type": "code",
   "execution_count": 34,
   "metadata": {},
   "outputs": [
    {
     "data": {
      "image/png": "[encoded data removed]",
      "text/plain": [
       "<Figure size 780.175x720 with 14 Axes>"
      ]
     },
     "metadata": {
      "needs_background": "light"
     },
     "output_type": "display_data"
    }
   ],
   "source": [
    "# すべての主成分の組み合わせを見る\n",
    "sns.pairplot(user_df_pca, vars=target_components, hue='cluster_id',\n",
    "             palette=\"muted\", corner=True,\n",
    "             plot_kws={\"s\": 10, \"alpha\":0.5, \"linewidth\":0})\n",
    "plt.show()"
   ]
  },
  {
   "cell_type": "markdown",
   "metadata": {},
   "source": [
    "#### クラスタ毎の主成分スコアの平均値"
   ]
  },
  {
   "cell_type": "code",
   "execution_count": 35,
   "metadata": {},
   "outputs": [
    {
     "data": {
      "text/html": [
       "<div>\n",
       "<style scoped>\n",
       "    .dataframe tbody tr th:only-of-type {\n",
       "        vertical-align: middle;\n",
       "    }\n",
       "\n",
       "    .dataframe tbody tr th {\n",
       "        vertical-align: top;\n",
       "    }\n",
       "\n",
       "    .dataframe thead th {\n",
       "        text-align: right;\n",
       "    }\n",
       "</style>\n",
       "<table border=\"1\" class=\"dataframe\">\n",
       "  <thead>\n",
       "    <tr style=\"text-align: right;\">\n",
       "      <th></th>\n",
       "      <th>PC1</th>\n",
       "      <th>PC2</th>\n",
       "      <th>PC3</th>\n",
       "      <th>PC4</th>\n",
       "      <th>PC5</th>\n",
       "    </tr>\n",
       "    <tr>\n",
       "      <th>cluster_id</th>\n",
       "      <th></th>\n",
       "      <th></th>\n",
       "      <th></th>\n",
       "      <th></th>\n",
       "      <th></th>\n",
       "    </tr>\n",
       "  </thead>\n",
       "  <tbody>\n",
       "    <tr>\n",
       "      <th>0</th>\n",
       "      <td>-10.590257</td>\n",
       "      <td>-1.346820</td>\n",
       "      <td>-0.785981</td>\n",
       "      <td>1.034787</td>\n",
       "      <td>-0.044441</td>\n",
       "    </tr>\n",
       "    <tr>\n",
       "      <th>1</th>\n",
       "      <td>31.700149</td>\n",
       "      <td>27.424966</td>\n",
       "      <td>11.384062</td>\n",
       "      <td>-15.075999</td>\n",
       "      <td>7.340246</td>\n",
       "    </tr>\n",
       "    <tr>\n",
       "      <th>2</th>\n",
       "      <td>84.294039</td>\n",
       "      <td>32.648487</td>\n",
       "      <td>-41.741035</td>\n",
       "      <td>5.567582</td>\n",
       "      <td>-5.642208</td>\n",
       "    </tr>\n",
       "    <tr>\n",
       "      <th>3</th>\n",
       "      <td>81.054227</td>\n",
       "      <td>-42.166912</td>\n",
       "      <td>14.665020</td>\n",
       "      <td>-1.866197</td>\n",
       "      <td>-4.096434</td>\n",
       "    </tr>\n",
       "    <tr>\n",
       "      <th>4</th>\n",
       "      <td>126.222059</td>\n",
       "      <td>153.977492</td>\n",
       "      <td>83.442360</td>\n",
       "      <td>25.314469</td>\n",
       "      <td>-28.677967</td>\n",
       "    </tr>\n",
       "  </tbody>\n",
       "</table>\n",
       "</div>"
      ],
      "text/plain": [
       "                   PC1         PC2        PC3        PC4        PC5\n",
       "cluster_id                                                         \n",
       "0           -10.590257   -1.346820  -0.785981   1.034787  -0.044441\n",
       "1            31.700149   27.424966  11.384062 -15.075999   7.340246\n",
       "2            84.294039   32.648487 -41.741035   5.567582  -5.642208\n",
       "3            81.054227  -42.166912  14.665020  -1.866197  -4.096434\n",
       "4           126.222059  153.977492  83.442360  25.314469 -28.677967"
      ]
     },
     "execution_count": 35,
     "metadata": {},
     "output_type": "execute_result"
    }
   ],
   "source": [
    "# クラスタID毎に主成分スコアの平均値を求める\n",
    "user_df_pca.groupby(\n",
    "    'cluster_id'\n",
    ").mean()"
   ]
  },
  {
   "cell_type": "code",
   "execution_count": 36,
   "metadata": {},
   "outputs": [
    {
     "name": "stdout",
     "output_type": "stream",
     "text": [
      "==========\n",
      "Cluster 0 (175382 users)\n",
      "==========\n",
      "fresh fruits \t 1.00 (12.09)\n",
      "fresh vegetables \t 0.96 (11.56)\n",
      "packaged vegetables fruits \t 0.51 (6.14)\n",
      "yogurt \t 0.34 (4.12)\n",
      "packaged cheese \t 0.27 (3.32)\n",
      "milk \t 0.24 (2.84)\n",
      "water seltzer sparkling water \t 0.22 (2.62)\n",
      "chips pretzels \t 0.19 (2.33)\n",
      "soy lactosefree \t 0.18 (2.17)\n",
      "bread \t 0.17 (2.01)\n",
      "frozen produce \t 0.16 (1.89)\n",
      "refrigerated \t 0.15 (1.85)\n",
      "ice cream ice \t 0.15 (1.83)\n",
      "eggs \t 0.14 (1.67)\n",
      "crackers \t 0.12 (1.50)\n",
      "frozen meals \t 0.12 (1.40)\n",
      "lunch meat \t 0.11 (1.36)\n",
      "soup broth bouillon \t 0.11 (1.29)\n",
      "soft drinks \t 0.11 (1.28)\n",
      "fresh herbs \t 0.11 (1.27)\n",
      "\n",
      "==========\n",
      "Cluster 1 (14016 users)\n",
      "==========\n",
      "fresh fruits \t 1.00 (34.33)\n",
      "yogurt \t 0.87 (29.93)\n",
      "fresh vegetables \t 0.62 (21.17)\n",
      "packaged vegetables fruits \t 0.57 (19.47)\n",
      "water seltzer sparkling water \t 0.52 (17.83)\n",
      "packaged cheese \t 0.46 (15.83)\n",
      "milk \t 0.44 (15.04)\n",
      "chips pretzels \t 0.42 (14.33)\n",
      "baby food formula \t 0.36 (12.27)\n",
      "refrigerated \t 0.31 (10.50)\n",
      "energy granola bars \t 0.29 (9.81)\n",
      "bread \t 0.27 (9.22)\n",
      "crackers \t 0.26 (8.76)\n",
      "ice cream ice \t 0.25 (8.41)\n",
      "soy lactosefree \t 0.24 (8.17)\n",
      "frozen meals \t 0.22 (7.72)\n",
      "cereal \t 0.21 (7.31)\n",
      "soft drinks \t 0.21 (7.23)\n",
      "lunch meat \t 0.19 (6.49)\n",
      "frozen produce \t 0.17 (5.94)\n",
      "\n",
      "==========\n",
      "Cluster 2 (5625 users)\n",
      "==========\n",
      "fresh fruits \t 1.00 (108.97)\n",
      "fresh vegetables \t 0.29 (31.95)\n",
      "packaged vegetables fruits \t 0.29 (31.55)\n",
      "yogurt \t 0.18 (19.56)\n",
      "milk \t 0.16 (17.70)\n",
      "packaged cheese \t 0.13 (14.01)\n",
      "water seltzer sparkling water \t 0.10 (11.24)\n",
      "soy lactosefree \t 0.10 (11.05)\n",
      "chips pretzels \t 0.10 (10.88)\n",
      "packaged produce \t 0.09 (10.19)\n",
      "bread \t 0.08 (9.25)\n",
      "energy granola bars \t 0.08 (8.64)\n",
      "refrigerated \t 0.08 (8.18)\n",
      "frozen produce \t 0.07 (7.69)\n",
      "crackers \t 0.07 (7.55)\n",
      "nuts seeds dried fruit \t 0.06 (6.04)\n",
      "lunch meat \t 0.05 (5.92)\n",
      "cereal \t 0.05 (5.92)\n",
      "eggs \t 0.05 (5.86)\n",
      "fresh dips tapenades \t 0.05 (5.83)\n",
      "\n",
      "==========\n",
      "Cluster 3 (10473 users)\n",
      "==========\n",
      "fresh vegetables \t 1.00 (100.08)\n",
      "fresh fruits \t 0.48 (48.46)\n",
      "packaged vegetables fruits \t 0.28 (28.10)\n",
      "fresh herbs \t 0.12 (11.69)\n",
      "yogurt \t 0.12 (11.55)\n",
      "packaged cheese \t 0.11 (11.33)\n",
      "soy lactosefree \t 0.09 (8.91)\n",
      "milk \t 0.09 (8.64)\n",
      "frozen produce \t 0.08 (7.93)\n",
      "water seltzer sparkling water \t 0.07 (7.35)\n",
      "canned jarred vegetables \t 0.06 (6.43)\n",
      "eggs \t 0.06 (6.34)\n",
      "bread \t 0.06 (6.19)\n",
      "chips pretzels \t 0.06 (6.13)\n",
      "refrigerated \t 0.06 (5.57)\n",
      "soup broth bouillon \t 0.05 (5.43)\n",
      "baking ingredients \t 0.05 (5.28)\n",
      "canned meals beans \t 0.05 (5.17)\n",
      "oils vinegars \t 0.05 (4.81)\n",
      "ice cream ice \t 0.04 (4.48)\n",
      "\n",
      "==========\n",
      "Cluster 4 (713 users)\n",
      "==========\n",
      "yogurt \t 1.00 (188.94)\n",
      "fresh fruits \t 0.52 (99.04)\n",
      "energy granola bars \t 0.22 (41.36)\n",
      "water seltzer sparkling water \t 0.22 (40.97)\n",
      "milk \t 0.18 (33.93)\n",
      "packaged vegetables fruits \t 0.17 (31.91)\n",
      "refrigerated \t 0.17 (31.69)\n",
      "chips pretzels \t 0.14 (27.38)\n",
      "packaged cheese \t 0.14 (27.10)\n",
      "tea \t 0.12 (23.02)\n",
      "fresh vegetables \t 0.12 (22.33)\n",
      "soy lactosefree \t 0.11 (20.66)\n",
      "candy chocolate \t 0.09 (16.81)\n",
      "cream \t 0.08 (14.84)\n",
      "bread \t 0.08 (14.51)\n",
      "cereal \t 0.07 (13.82)\n",
      "fresh dips tapenades \t 0.07 (13.66)\n",
      "crackers \t 0.07 (13.02)\n",
      "lunch meat \t 0.06 (11.77)\n",
      "breakfast bakery \t 0.06 (11.58)\n",
      "\n"
     ]
    }
   ],
   "source": [
    "# ユーザにクラスタIDを割り当て\n",
    "user_df['cluster_id'] = kmeans.labels_\n",
    "\n",
    "# クラスタID毎に情報を集約\n",
    "cluster_df = user_df.groupby(\n",
    "    'cluster_id'\n",
    ").mean()\n",
    "\n",
    "normalized_cluster_df = user_df.groupby(\n",
    "    'cluster_id'\n",
    ").mean(\n",
    ").apply(\n",
    "    lambda x: x / max(x),\n",
    "    axis=1\n",
    ")\n",
    "\n",
    "# クラスタ毎に注文頻度が多い商品棚（aisle）上位10件を表示\n",
    "for cluster_id in range(cluster_num):\n",
    "    frequent_orders = sorted(dict(normalized_cluster_df.loc[cluster_id]).items(), key=lambda x:-x[1])[:20]\n",
    "   \n",
    "    print(\"=\" * 10)\n",
    "    print(\"Cluster {} ({} users)\".format(cluster_id, len(user_df[user_df.cluster_id==cluster_id])))\n",
    "    print(\"=\" * 10)\n",
    "    for aisle, normalized_score in frequent_orders:\n",
    "        score = cluster_df.at[cluster_id, aisle]\n",
    "        print(aisle, \"\\t\", \"{:.2f} ({:.2f})\".format(normalized_score, score))\n",
    "    print(\"\")"
   ]
  }
 ],
 "metadata": {
  "kernelspec": {
   "display_name": "Python 3 (ipykernel)",
   "language": "python",
   "name": "python3"
  },
  "language_info": {
   "codemirror_mode": {
    "name": "ipython",
    "version": 3
   },
   "file_extension": ".py",
   "mimetype": "text/x-python",
   "name": "python",
   "nbconvert_exporter": "python",
   "pygments_lexer": "ipython3",
   "version": "3.9.5"
  }
 },
 "nbformat": 4,
 "nbformat_minor": 4
}
